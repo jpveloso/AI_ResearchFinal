{
  "cells": [
    {
      "cell_type": "markdown",
      "id": "1adc3658",
      "metadata": {
        "id": "1adc3658"
      },
      "source": [
        "# Wine Quality Regression Analysis"
      ]
    },
    {
      "cell_type": "markdown",
      "id": "e5b7a5c6",
      "metadata": {
        "id": "e5b7a5c6"
      },
      "source": [
        "## Objective\n",
        "To predict the `alcohol` content in white wine based on its chemical properties using PyCaret's regression module."
      ]
    },
    {
      "cell_type": "markdown",
      "id": "80b694e2",
      "metadata": {
        "id": "80b694e2"
      },
      "source": [
        "## Dataset Overview\n",
        "The dataset contains the following features:\n",
        "- `fixed acidity`\n",
        "- `volatile acidity`\n",
        "- `citric acid`\n",
        "- `residual sugar`\n",
        "- `chlorides`\n",
        "- `free sulfur dioxide`\n",
        "- `total sulfur dioxide`\n",
        "- `density`\n",
        "- `pH`\n",
        "- `sulphates`\n",
        "- `quality`\n",
        "- **Target Variable**: `alcohol`\n",
        "\n",
        "**Source**: [UCI Machine Learning Repository](https://archive.ics.uci.edu/ml/machine-learning-databases/wine-quality/winequality-white.csv)"
      ]
    },
    {
      "cell_type": "markdown",
      "id": "5964156a",
      "metadata": {
        "id": "5964156a"
      },
      "source": [
        "## 1. Installation\n",
        "Install the required packages:\n",
        "\n"
      ]
    },
    {
      "cell_type": "code",
      "source": [
        "pip install pycaret pandas"
      ],
      "metadata": {
        "colab": {
          "base_uri": "https://localhost:8080/",
          "height": 1000
        },
        "id": "ysmvxKHTBPHa",
        "outputId": "4a615886-9e49-4daf-813f-ba5ade119762"
      },
      "id": "ysmvxKHTBPHa",
      "execution_count": 14,
      "outputs": [
        {
          "output_type": "stream",
          "name": "stdout",
          "text": [
            "Collecting pycaret\n",
            "  Downloading pycaret-3.3.2-py3-none-any.whl.metadata (17 kB)\n",
            "Requirement already satisfied: pandas in /usr/local/lib/python3.10/dist-packages (2.2.2)\n",
            "Requirement already satisfied: ipython>=5.5.0 in /usr/local/lib/python3.10/dist-packages (from pycaret) (7.34.0)\n",
            "Requirement already satisfied: ipywidgets>=7.6.5 in /usr/local/lib/python3.10/dist-packages (from pycaret) (7.7.1)\n",
            "Requirement already satisfied: tqdm>=4.62.0 in /usr/local/lib/python3.10/dist-packages (from pycaret) (4.66.6)\n",
            "Requirement already satisfied: numpy<1.27,>=1.21 in /usr/local/lib/python3.10/dist-packages (from pycaret) (1.26.4)\n",
            "Collecting pandas\n",
            "  Downloading pandas-2.1.4-cp310-cp310-manylinux_2_17_x86_64.manylinux2014_x86_64.whl.metadata (18 kB)\n",
            "Requirement already satisfied: jinja2>=3 in /usr/local/lib/python3.10/dist-packages (from pycaret) (3.1.4)\n",
            "Collecting scipy<=1.11.4,>=1.6.1 (from pycaret)\n",
            "  Downloading scipy-1.11.4-cp310-cp310-manylinux_2_17_x86_64.manylinux2014_x86_64.whl.metadata (60 kB)\n",
            "\u001b[2K     \u001b[90m━━━━━━━━━━━━━━━━━━━━━━━━━━━━━━━━━━━━━━━━\u001b[0m \u001b[32m60.4/60.4 kB\u001b[0m \u001b[31m2.5 MB/s\u001b[0m eta \u001b[36m0:00:00\u001b[0m\n",
            "\u001b[?25hCollecting joblib<1.4,>=1.2.0 (from pycaret)\n",
            "  Downloading joblib-1.3.2-py3-none-any.whl.metadata (5.4 kB)\n",
            "Requirement already satisfied: scikit-learn>1.4.0 in /usr/local/lib/python3.10/dist-packages (from pycaret) (1.5.2)\n",
            "Collecting pyod>=1.1.3 (from pycaret)\n",
            "  Downloading pyod-2.0.2.tar.gz (165 kB)\n",
            "\u001b[2K     \u001b[90m━━━━━━━━━━━━━━━━━━━━━━━━━━━━━━━━━━━━━━━━\u001b[0m \u001b[32m165.8/165.8 kB\u001b[0m \u001b[31m7.6 MB/s\u001b[0m eta \u001b[36m0:00:00\u001b[0m\n",
            "\u001b[?25h  Preparing metadata (setup.py) ... \u001b[?25l\u001b[?25hdone\n",
            "Requirement already satisfied: imbalanced-learn>=0.12.0 in /usr/local/lib/python3.10/dist-packages (from pycaret) (0.12.4)\n",
            "Collecting category-encoders>=2.4.0 (from pycaret)\n",
            "  Downloading category_encoders-2.6.4-py2.py3-none-any.whl.metadata (8.0 kB)\n",
            "Requirement already satisfied: lightgbm>=3.0.0 in /usr/local/lib/python3.10/dist-packages (from pycaret) (4.5.0)\n",
            "Requirement already satisfied: numba>=0.55.0 in /usr/local/lib/python3.10/dist-packages (from pycaret) (0.60.0)\n",
            "Requirement already satisfied: requests>=2.27.1 in /usr/local/lib/python3.10/dist-packages (from pycaret) (2.32.3)\n",
            "Requirement already satisfied: psutil>=5.9.0 in /usr/local/lib/python3.10/dist-packages (from pycaret) (5.9.5)\n",
            "Requirement already satisfied: markupsafe>=2.0.1 in /usr/local/lib/python3.10/dist-packages (from pycaret) (3.0.2)\n",
            "Requirement already satisfied: importlib-metadata>=4.12.0 in /usr/local/lib/python3.10/dist-packages (from pycaret) (8.5.0)\n",
            "Requirement already satisfied: nbformat>=4.2.0 in /usr/local/lib/python3.10/dist-packages (from pycaret) (5.10.4)\n",
            "Requirement already satisfied: cloudpickle in /usr/local/lib/python3.10/dist-packages (from pycaret) (3.1.0)\n",
            "Collecting deprecation>=2.1.0 (from pycaret)\n",
            "  Downloading deprecation-2.1.0-py2.py3-none-any.whl.metadata (4.6 kB)\n",
            "Collecting xxhash (from pycaret)\n",
            "  Downloading xxhash-3.5.0-cp310-cp310-manylinux_2_17_x86_64.manylinux2014_x86_64.whl.metadata (12 kB)\n",
            "Collecting matplotlib<3.8.0 (from pycaret)\n",
            "  Downloading matplotlib-3.7.5-cp310-cp310-manylinux_2_17_x86_64.manylinux2014_x86_64.whl.metadata (5.7 kB)\n",
            "Collecting scikit-plot>=0.3.7 (from pycaret)\n",
            "  Downloading scikit_plot-0.3.7-py3-none-any.whl.metadata (7.1 kB)\n",
            "Requirement already satisfied: yellowbrick>=1.4 in /usr/local/lib/python3.10/dist-packages (from pycaret) (1.5)\n",
            "Requirement already satisfied: plotly>=5.14.0 in /usr/local/lib/python3.10/dist-packages (from pycaret) (5.24.1)\n",
            "Collecting kaleido>=0.2.1 (from pycaret)\n",
            "  Downloading kaleido-0.2.1-py2.py3-none-manylinux1_x86_64.whl.metadata (15 kB)\n",
            "Collecting schemdraw==0.15 (from pycaret)\n",
            "  Downloading schemdraw-0.15-py3-none-any.whl.metadata (2.2 kB)\n",
            "Collecting plotly-resampler>=0.8.3.1 (from pycaret)\n",
            "  Downloading plotly_resampler-0.10.0-py3-none-any.whl.metadata (13 kB)\n",
            "Requirement already satisfied: statsmodels>=0.12.1 in /usr/local/lib/python3.10/dist-packages (from pycaret) (0.14.4)\n",
            "Collecting sktime==0.26.0 (from pycaret)\n",
            "  Downloading sktime-0.26.0-py3-none-any.whl.metadata (29 kB)\n",
            "Collecting tbats>=1.1.3 (from pycaret)\n",
            "  Downloading tbats-1.1.3-py3-none-any.whl.metadata (3.8 kB)\n",
            "Collecting pmdarima>=2.0.4 (from pycaret)\n",
            "  Downloading pmdarima-2.0.4-cp310-cp310-manylinux_2_17_x86_64.manylinux2014_x86_64.manylinux_2_28_x86_64.whl.metadata (7.8 kB)\n",
            "Collecting wurlitzer (from pycaret)\n",
            "  Downloading wurlitzer-3.1.1-py3-none-any.whl.metadata (2.5 kB)\n",
            "Requirement already satisfied: packaging in /usr/local/lib/python3.10/dist-packages (from sktime==0.26.0->pycaret) (24.2)\n",
            "Collecting scikit-base<0.8.0 (from sktime==0.26.0->pycaret)\n",
            "  Downloading scikit_base-0.7.8-py3-none-any.whl.metadata (8.8 kB)\n",
            "Collecting scikit-learn>1.4.0 (from pycaret)\n",
            "  Downloading scikit_learn-1.4.2-cp310-cp310-manylinux_2_17_x86_64.manylinux2014_x86_64.whl.metadata (11 kB)\n",
            "Requirement already satisfied: python-dateutil>=2.8.2 in /usr/local/lib/python3.10/dist-packages (from pandas) (2.8.2)\n",
            "Requirement already satisfied: pytz>=2020.1 in /usr/local/lib/python3.10/dist-packages (from pandas) (2024.2)\n",
            "Requirement already satisfied: tzdata>=2022.1 in /usr/local/lib/python3.10/dist-packages (from pandas) (2024.2)\n",
            "Requirement already satisfied: patsy>=0.5.1 in /usr/local/lib/python3.10/dist-packages (from category-encoders>=2.4.0->pycaret) (1.0.1)\n",
            "Requirement already satisfied: threadpoolctl>=2.0.0 in /usr/local/lib/python3.10/dist-packages (from imbalanced-learn>=0.12.0->pycaret) (3.5.0)\n",
            "Requirement already satisfied: zipp>=3.20 in /usr/local/lib/python3.10/dist-packages (from importlib-metadata>=4.12.0->pycaret) (3.21.0)\n",
            "Requirement already satisfied: setuptools>=18.5 in /usr/local/lib/python3.10/dist-packages (from ipython>=5.5.0->pycaret) (75.1.0)\n",
            "Collecting jedi>=0.16 (from ipython>=5.5.0->pycaret)\n",
            "  Downloading jedi-0.19.2-py2.py3-none-any.whl.metadata (22 kB)\n",
            "Requirement already satisfied: decorator in /usr/local/lib/python3.10/dist-packages (from ipython>=5.5.0->pycaret) (4.4.2)\n",
            "Requirement already satisfied: pickleshare in /usr/local/lib/python3.10/dist-packages (from ipython>=5.5.0->pycaret) (0.7.5)\n",
            "Requirement already satisfied: traitlets>=4.2 in /usr/local/lib/python3.10/dist-packages (from ipython>=5.5.0->pycaret) (5.7.1)\n",
            "Requirement already satisfied: prompt-toolkit!=3.0.0,!=3.0.1,<3.1.0,>=2.0.0 in /usr/local/lib/python3.10/dist-packages (from ipython>=5.5.0->pycaret) (3.0.48)\n",
            "Requirement already satisfied: pygments in /usr/local/lib/python3.10/dist-packages (from ipython>=5.5.0->pycaret) (2.18.0)\n",
            "Requirement already satisfied: backcall in /usr/local/lib/python3.10/dist-packages (from ipython>=5.5.0->pycaret) (0.2.0)\n",
            "Requirement already satisfied: matplotlib-inline in /usr/local/lib/python3.10/dist-packages (from ipython>=5.5.0->pycaret) (0.1.7)\n",
            "Requirement already satisfied: pexpect>4.3 in /usr/local/lib/python3.10/dist-packages (from ipython>=5.5.0->pycaret) (4.9.0)\n",
            "Requirement already satisfied: ipykernel>=4.5.1 in /usr/local/lib/python3.10/dist-packages (from ipywidgets>=7.6.5->pycaret) (5.5.6)\n",
            "Requirement already satisfied: ipython-genutils~=0.2.0 in /usr/local/lib/python3.10/dist-packages (from ipywidgets>=7.6.5->pycaret) (0.2.0)\n",
            "Requirement already satisfied: widgetsnbextension~=3.6.0 in /usr/local/lib/python3.10/dist-packages (from ipywidgets>=7.6.5->pycaret) (3.6.10)\n",
            "Requirement already satisfied: jupyterlab-widgets>=1.0.0 in /usr/local/lib/python3.10/dist-packages (from ipywidgets>=7.6.5->pycaret) (3.0.13)\n",
            "Requirement already satisfied: contourpy>=1.0.1 in /usr/local/lib/python3.10/dist-packages (from matplotlib<3.8.0->pycaret) (1.3.1)\n",
            "Requirement already satisfied: cycler>=0.10 in /usr/local/lib/python3.10/dist-packages (from matplotlib<3.8.0->pycaret) (0.12.1)\n",
            "Requirement already satisfied: fonttools>=4.22.0 in /usr/local/lib/python3.10/dist-packages (from matplotlib<3.8.0->pycaret) (4.55.0)\n",
            "Requirement already satisfied: kiwisolver>=1.0.1 in /usr/local/lib/python3.10/dist-packages (from matplotlib<3.8.0->pycaret) (1.4.7)\n",
            "Requirement already satisfied: pillow>=6.2.0 in /usr/local/lib/python3.10/dist-packages (from matplotlib<3.8.0->pycaret) (11.0.0)\n",
            "Requirement already satisfied: pyparsing>=2.3.1 in /usr/local/lib/python3.10/dist-packages (from matplotlib<3.8.0->pycaret) (3.2.0)\n",
            "Requirement already satisfied: fastjsonschema>=2.15 in /usr/local/lib/python3.10/dist-packages (from nbformat>=4.2.0->pycaret) (2.20.0)\n",
            "Requirement already satisfied: jsonschema>=2.6 in /usr/local/lib/python3.10/dist-packages (from nbformat>=4.2.0->pycaret) (4.23.0)\n",
            "Requirement already satisfied: jupyter-core!=5.0.*,>=4.12 in /usr/local/lib/python3.10/dist-packages (from nbformat>=4.2.0->pycaret) (5.7.2)\n",
            "Requirement already satisfied: llvmlite<0.44,>=0.43.0dev0 in /usr/local/lib/python3.10/dist-packages (from numba>=0.55.0->pycaret) (0.43.0)\n",
            "Requirement already satisfied: tenacity>=6.2.0 in /usr/local/lib/python3.10/dist-packages (from plotly>=5.14.0->pycaret) (9.0.0)\n",
            "Collecting dash>=2.9.0 (from plotly-resampler>=0.8.3.1->pycaret)\n",
            "  Downloading dash-2.18.2-py3-none-any.whl.metadata (10 kB)\n",
            "Requirement already satisfied: orjson<4.0.0,>=3.8.0 in /usr/local/lib/python3.10/dist-packages (from plotly-resampler>=0.8.3.1->pycaret) (3.10.11)\n",
            "Collecting tsdownsample>=0.1.3 (from plotly-resampler>=0.8.3.1->pycaret)\n",
            "  Downloading tsdownsample-0.1.3-cp310-cp310-manylinux_2_17_x86_64.manylinux2014_x86_64.whl.metadata (7.9 kB)\n",
            "Requirement already satisfied: Cython!=0.29.18,!=0.29.31,>=0.29 in /usr/local/lib/python3.10/dist-packages (from pmdarima>=2.0.4->pycaret) (3.0.11)\n",
            "Requirement already satisfied: urllib3 in /usr/local/lib/python3.10/dist-packages (from pmdarima>=2.0.4->pycaret) (2.2.3)\n",
            "Requirement already satisfied: six>=1.5 in /usr/local/lib/python3.10/dist-packages (from python-dateutil>=2.8.2->pandas) (1.16.0)\n",
            "Requirement already satisfied: charset-normalizer<4,>=2 in /usr/local/lib/python3.10/dist-packages (from requests>=2.27.1->pycaret) (3.4.0)\n",
            "Requirement already satisfied: idna<4,>=2.5 in /usr/local/lib/python3.10/dist-packages (from requests>=2.27.1->pycaret) (3.10)\n",
            "Requirement already satisfied: certifi>=2017.4.17 in /usr/local/lib/python3.10/dist-packages (from requests>=2.27.1->pycaret) (2024.8.30)\n",
            "Requirement already satisfied: Flask<3.1,>=1.0.4 in /usr/local/lib/python3.10/dist-packages (from dash>=2.9.0->plotly-resampler>=0.8.3.1->pycaret) (3.0.3)\n",
            "Collecting Werkzeug<3.1 (from dash>=2.9.0->plotly-resampler>=0.8.3.1->pycaret)\n",
            "  Downloading werkzeug-3.0.6-py3-none-any.whl.metadata (3.7 kB)\n",
            "Collecting dash-html-components==2.0.0 (from dash>=2.9.0->plotly-resampler>=0.8.3.1->pycaret)\n",
            "  Downloading dash_html_components-2.0.0-py3-none-any.whl.metadata (3.8 kB)\n",
            "Collecting dash-core-components==2.0.0 (from dash>=2.9.0->plotly-resampler>=0.8.3.1->pycaret)\n",
            "  Downloading dash_core_components-2.0.0-py3-none-any.whl.metadata (2.9 kB)\n",
            "Collecting dash-table==5.0.0 (from dash>=2.9.0->plotly-resampler>=0.8.3.1->pycaret)\n",
            "  Downloading dash_table-5.0.0-py3-none-any.whl.metadata (2.4 kB)\n",
            "Requirement already satisfied: typing-extensions>=4.1.1 in /usr/local/lib/python3.10/dist-packages (from dash>=2.9.0->plotly-resampler>=0.8.3.1->pycaret) (4.12.2)\n",
            "Collecting retrying (from dash>=2.9.0->plotly-resampler>=0.8.3.1->pycaret)\n",
            "  Downloading retrying-1.3.4-py3-none-any.whl.metadata (6.9 kB)\n",
            "Requirement already satisfied: nest-asyncio in /usr/local/lib/python3.10/dist-packages (from dash>=2.9.0->plotly-resampler>=0.8.3.1->pycaret) (1.6.0)\n",
            "Requirement already satisfied: jupyter-client in /usr/local/lib/python3.10/dist-packages (from ipykernel>=4.5.1->ipywidgets>=7.6.5->pycaret) (6.1.12)\n",
            "Requirement already satisfied: tornado>=4.2 in /usr/local/lib/python3.10/dist-packages (from ipykernel>=4.5.1->ipywidgets>=7.6.5->pycaret) (6.3.3)\n",
            "Requirement already satisfied: parso<0.9.0,>=0.8.4 in /usr/local/lib/python3.10/dist-packages (from jedi>=0.16->ipython>=5.5.0->pycaret) (0.8.4)\n",
            "Requirement already satisfied: attrs>=22.2.0 in /usr/local/lib/python3.10/dist-packages (from jsonschema>=2.6->nbformat>=4.2.0->pycaret) (24.2.0)\n",
            "Requirement already satisfied: jsonschema-specifications>=2023.03.6 in /usr/local/lib/python3.10/dist-packages (from jsonschema>=2.6->nbformat>=4.2.0->pycaret) (2024.10.1)\n",
            "Requirement already satisfied: referencing>=0.28.4 in /usr/local/lib/python3.10/dist-packages (from jsonschema>=2.6->nbformat>=4.2.0->pycaret) (0.35.1)\n",
            "Requirement already satisfied: rpds-py>=0.7.1 in /usr/local/lib/python3.10/dist-packages (from jsonschema>=2.6->nbformat>=4.2.0->pycaret) (0.21.0)\n",
            "Requirement already satisfied: platformdirs>=2.5 in /usr/local/lib/python3.10/dist-packages (from jupyter-core!=5.0.*,>=4.12->nbformat>=4.2.0->pycaret) (4.3.6)\n",
            "Requirement already satisfied: ptyprocess>=0.5 in /usr/local/lib/python3.10/dist-packages (from pexpect>4.3->ipython>=5.5.0->pycaret) (0.7.0)\n",
            "Requirement already satisfied: wcwidth in /usr/local/lib/python3.10/dist-packages (from prompt-toolkit!=3.0.0,!=3.0.1,<3.1.0,>=2.0.0->ipython>=5.5.0->pycaret) (0.2.13)\n",
            "Requirement already satisfied: notebook>=4.4.1 in /usr/local/lib/python3.10/dist-packages (from widgetsnbextension~=3.6.0->ipywidgets>=7.6.5->pycaret) (6.5.5)\n",
            "Requirement already satisfied: itsdangerous>=2.1.2 in /usr/local/lib/python3.10/dist-packages (from Flask<3.1,>=1.0.4->dash>=2.9.0->plotly-resampler>=0.8.3.1->pycaret) (2.2.0)\n",
            "Requirement already satisfied: click>=8.1.3 in /usr/local/lib/python3.10/dist-packages (from Flask<3.1,>=1.0.4->dash>=2.9.0->plotly-resampler>=0.8.3.1->pycaret) (8.1.7)\n",
            "Requirement already satisfied: blinker>=1.6.2 in /usr/local/lib/python3.10/dist-packages (from Flask<3.1,>=1.0.4->dash>=2.9.0->plotly-resampler>=0.8.3.1->pycaret) (1.9.0)\n",
            "Requirement already satisfied: pyzmq<25,>=17 in /usr/local/lib/python3.10/dist-packages (from notebook>=4.4.1->widgetsnbextension~=3.6.0->ipywidgets>=7.6.5->pycaret) (24.0.1)\n",
            "Requirement already satisfied: argon2-cffi in /usr/local/lib/python3.10/dist-packages (from notebook>=4.4.1->widgetsnbextension~=3.6.0->ipywidgets>=7.6.5->pycaret) (23.1.0)\n",
            "Requirement already satisfied: nbconvert>=5 in /usr/local/lib/python3.10/dist-packages (from notebook>=4.4.1->widgetsnbextension~=3.6.0->ipywidgets>=7.6.5->pycaret) (7.16.4)\n",
            "Requirement already satisfied: Send2Trash>=1.8.0 in /usr/local/lib/python3.10/dist-packages (from notebook>=4.4.1->widgetsnbextension~=3.6.0->ipywidgets>=7.6.5->pycaret) (1.8.3)\n",
            "Requirement already satisfied: terminado>=0.8.3 in /usr/local/lib/python3.10/dist-packages (from notebook>=4.4.1->widgetsnbextension~=3.6.0->ipywidgets>=7.6.5->pycaret) (0.18.1)\n",
            "Requirement already satisfied: prometheus-client in /usr/local/lib/python3.10/dist-packages (from notebook>=4.4.1->widgetsnbextension~=3.6.0->ipywidgets>=7.6.5->pycaret) (0.21.0)\n",
            "Requirement already satisfied: nbclassic>=0.4.7 in /usr/local/lib/python3.10/dist-packages (from notebook>=4.4.1->widgetsnbextension~=3.6.0->ipywidgets>=7.6.5->pycaret) (1.1.0)\n",
            "Requirement already satisfied: notebook-shim>=0.2.3 in /usr/local/lib/python3.10/dist-packages (from nbclassic>=0.4.7->notebook>=4.4.1->widgetsnbextension~=3.6.0->ipywidgets>=7.6.5->pycaret) (0.2.4)\n",
            "Requirement already satisfied: beautifulsoup4 in /usr/local/lib/python3.10/dist-packages (from nbconvert>=5->notebook>=4.4.1->widgetsnbextension~=3.6.0->ipywidgets>=7.6.5->pycaret) (4.12.3)\n",
            "Requirement already satisfied: bleach!=5.0.0 in /usr/local/lib/python3.10/dist-packages (from nbconvert>=5->notebook>=4.4.1->widgetsnbextension~=3.6.0->ipywidgets>=7.6.5->pycaret) (6.2.0)\n",
            "Requirement already satisfied: defusedxml in /usr/local/lib/python3.10/dist-packages (from nbconvert>=5->notebook>=4.4.1->widgetsnbextension~=3.6.0->ipywidgets>=7.6.5->pycaret) (0.7.1)\n",
            "Requirement already satisfied: jupyterlab-pygments in /usr/local/lib/python3.10/dist-packages (from nbconvert>=5->notebook>=4.4.1->widgetsnbextension~=3.6.0->ipywidgets>=7.6.5->pycaret) (0.3.0)\n",
            "Requirement already satisfied: mistune<4,>=2.0.3 in /usr/local/lib/python3.10/dist-packages (from nbconvert>=5->notebook>=4.4.1->widgetsnbextension~=3.6.0->ipywidgets>=7.6.5->pycaret) (3.0.2)\n",
            "Requirement already satisfied: nbclient>=0.5.0 in /usr/local/lib/python3.10/dist-packages (from nbconvert>=5->notebook>=4.4.1->widgetsnbextension~=3.6.0->ipywidgets>=7.6.5->pycaret) (0.10.0)\n",
            "Requirement already satisfied: pandocfilters>=1.4.1 in /usr/local/lib/python3.10/dist-packages (from nbconvert>=5->notebook>=4.4.1->widgetsnbextension~=3.6.0->ipywidgets>=7.6.5->pycaret) (1.5.1)\n",
            "Requirement already satisfied: tinycss2 in /usr/local/lib/python3.10/dist-packages (from nbconvert>=5->notebook>=4.4.1->widgetsnbextension~=3.6.0->ipywidgets>=7.6.5->pycaret) (1.4.0)\n",
            "Requirement already satisfied: argon2-cffi-bindings in /usr/local/lib/python3.10/dist-packages (from argon2-cffi->notebook>=4.4.1->widgetsnbextension~=3.6.0->ipywidgets>=7.6.5->pycaret) (21.2.0)\n",
            "Requirement already satisfied: webencodings in /usr/local/lib/python3.10/dist-packages (from bleach!=5.0.0->nbconvert>=5->notebook>=4.4.1->widgetsnbextension~=3.6.0->ipywidgets>=7.6.5->pycaret) (0.5.1)\n",
            "Requirement already satisfied: jupyter-server<3,>=1.8 in /usr/local/lib/python3.10/dist-packages (from notebook-shim>=0.2.3->nbclassic>=0.4.7->notebook>=4.4.1->widgetsnbextension~=3.6.0->ipywidgets>=7.6.5->pycaret) (1.24.0)\n",
            "Requirement already satisfied: cffi>=1.0.1 in /usr/local/lib/python3.10/dist-packages (from argon2-cffi-bindings->argon2-cffi->notebook>=4.4.1->widgetsnbextension~=3.6.0->ipywidgets>=7.6.5->pycaret) (1.17.1)\n",
            "Requirement already satisfied: soupsieve>1.2 in /usr/local/lib/python3.10/dist-packages (from beautifulsoup4->nbconvert>=5->notebook>=4.4.1->widgetsnbextension~=3.6.0->ipywidgets>=7.6.5->pycaret) (2.6)\n",
            "Requirement already satisfied: pycparser in /usr/local/lib/python3.10/dist-packages (from cffi>=1.0.1->argon2-cffi-bindings->argon2-cffi->notebook>=4.4.1->widgetsnbextension~=3.6.0->ipywidgets>=7.6.5->pycaret) (2.22)\n",
            "Requirement already satisfied: anyio<4,>=3.1.0 in /usr/local/lib/python3.10/dist-packages (from jupyter-server<3,>=1.8->notebook-shim>=0.2.3->nbclassic>=0.4.7->notebook>=4.4.1->widgetsnbextension~=3.6.0->ipywidgets>=7.6.5->pycaret) (3.7.1)\n",
            "Requirement already satisfied: websocket-client in /usr/local/lib/python3.10/dist-packages (from jupyter-server<3,>=1.8->notebook-shim>=0.2.3->nbclassic>=0.4.7->notebook>=4.4.1->widgetsnbextension~=3.6.0->ipywidgets>=7.6.5->pycaret) (1.8.0)\n",
            "Requirement already satisfied: sniffio>=1.1 in /usr/local/lib/python3.10/dist-packages (from anyio<4,>=3.1.0->jupyter-server<3,>=1.8->notebook-shim>=0.2.3->nbclassic>=0.4.7->notebook>=4.4.1->widgetsnbextension~=3.6.0->ipywidgets>=7.6.5->pycaret) (1.3.1)\n",
            "Requirement already satisfied: exceptiongroup in /usr/local/lib/python3.10/dist-packages (from anyio<4,>=3.1.0->jupyter-server<3,>=1.8->notebook-shim>=0.2.3->nbclassic>=0.4.7->notebook>=4.4.1->widgetsnbextension~=3.6.0->ipywidgets>=7.6.5->pycaret) (1.2.2)\n",
            "Downloading pycaret-3.3.2-py3-none-any.whl (486 kB)\n",
            "\u001b[2K   \u001b[90m━━━━━━━━━━━━━━━━━━━━━━━━━━━━━━━━━━━━━━━━\u001b[0m \u001b[32m486.1/486.1 kB\u001b[0m \u001b[31m21.2 MB/s\u001b[0m eta \u001b[36m0:00:00\u001b[0m\n",
            "\u001b[?25hDownloading schemdraw-0.15-py3-none-any.whl (106 kB)\n",
            "\u001b[2K   \u001b[90m━━━━━━━━━━━━━━━━━━━━━━━━━━━━━━━━━━━━━━━━\u001b[0m \u001b[32m106.8/106.8 kB\u001b[0m \u001b[31m8.0 MB/s\u001b[0m eta \u001b[36m0:00:00\u001b[0m\n",
            "\u001b[?25hDownloading sktime-0.26.0-py3-none-any.whl (21.8 MB)\n",
            "\u001b[2K   \u001b[90m━━━━━━━━━━━━━━━━━━━━━━━━━━━━━━━━━━━━━━━━\u001b[0m \u001b[32m21.8/21.8 MB\u001b[0m \u001b[31m60.6 MB/s\u001b[0m eta \u001b[36m0:00:00\u001b[0m\n",
            "\u001b[?25hDownloading pandas-2.1.4-cp310-cp310-manylinux_2_17_x86_64.manylinux2014_x86_64.whl (12.3 MB)\n",
            "\u001b[2K   \u001b[90m━━━━━━━━━━━━━━━━━━━━━━━━━━━━━━━━━━━━━━━━\u001b[0m \u001b[32m12.3/12.3 MB\u001b[0m \u001b[31m84.0 MB/s\u001b[0m eta \u001b[36m0:00:00\u001b[0m\n",
            "\u001b[?25hDownloading category_encoders-2.6.4-py2.py3-none-any.whl (82 kB)\n",
            "\u001b[2K   \u001b[90m━━━━━━━━━━━━━━━━━━━━━━━━━━━━━━━━━━━━━━━━\u001b[0m \u001b[32m82.0/82.0 kB\u001b[0m \u001b[31m5.5 MB/s\u001b[0m eta \u001b[36m0:00:00\u001b[0m\n",
            "\u001b[?25hDownloading deprecation-2.1.0-py2.py3-none-any.whl (11 kB)\n",
            "Downloading joblib-1.3.2-py3-none-any.whl (302 kB)\n",
            "\u001b[2K   \u001b[90m━━━━━━━━━━━━━━━━━━━━━━━━━━━━━━━━━━━━━━━━\u001b[0m \u001b[32m302.2/302.2 kB\u001b[0m \u001b[31m18.8 MB/s\u001b[0m eta \u001b[36m0:00:00\u001b[0m\n",
            "\u001b[?25hDownloading kaleido-0.2.1-py2.py3-none-manylinux1_x86_64.whl (79.9 MB)\n",
            "\u001b[2K   \u001b[90m━━━━━━━━━━━━━━━━━━━━━━━━━━━━━━━━━━━━━━━━\u001b[0m \u001b[32m79.9/79.9 MB\u001b[0m \u001b[31m9.0 MB/s\u001b[0m eta \u001b[36m0:00:00\u001b[0m\n",
            "\u001b[?25hDownloading matplotlib-3.7.5-cp310-cp310-manylinux_2_17_x86_64.manylinux2014_x86_64.whl (11.6 MB)\n",
            "\u001b[2K   \u001b[90m━━━━━━━━━━━━━━━━━━━━━━━━━━━━━━━━━━━━━━━━\u001b[0m \u001b[32m11.6/11.6 MB\u001b[0m \u001b[31m85.4 MB/s\u001b[0m eta \u001b[36m0:00:00\u001b[0m\n",
            "\u001b[?25hDownloading plotly_resampler-0.10.0-py3-none-any.whl (80 kB)\n",
            "\u001b[2K   \u001b[90m━━━━━━━━━━━━━━━━━━━━━━━━━━━━━━━━━━━━━━━━\u001b[0m \u001b[32m80.7/80.7 kB\u001b[0m \u001b[31m5.8 MB/s\u001b[0m eta \u001b[36m0:00:00\u001b[0m\n",
            "\u001b[?25hDownloading pmdarima-2.0.4-cp310-cp310-manylinux_2_17_x86_64.manylinux2014_x86_64.manylinux_2_28_x86_64.whl (2.1 MB)\n",
            "\u001b[2K   \u001b[90m━━━━━━━━━━━━━━━━━━━━━━━━━━━━━━━━━━━━━━━━\u001b[0m \u001b[32m2.1/2.1 MB\u001b[0m \u001b[31m55.1 MB/s\u001b[0m eta \u001b[36m0:00:00\u001b[0m\n",
            "\u001b[?25hDownloading scikit_learn-1.4.2-cp310-cp310-manylinux_2_17_x86_64.manylinux2014_x86_64.whl (12.1 MB)\n",
            "\u001b[2K   \u001b[90m━━━━━━━━━━━━━━━━━━━━━━━━━━━━━━━━━━━━━━━━\u001b[0m \u001b[32m12.1/12.1 MB\u001b[0m \u001b[31m42.8 MB/s\u001b[0m eta \u001b[36m0:00:00\u001b[0m\n",
            "\u001b[?25hDownloading scikit_plot-0.3.7-py3-none-any.whl (33 kB)\n",
            "Downloading scipy-1.11.4-cp310-cp310-manylinux_2_17_x86_64.manylinux2014_x86_64.whl (36.4 MB)\n",
            "\u001b[2K   \u001b[90m━━━━━━━━━━━━━━━━━━━━━━━━━━━━━━━━━━━━━━━━\u001b[0m \u001b[32m36.4/36.4 MB\u001b[0m \u001b[31m17.6 MB/s\u001b[0m eta \u001b[36m0:00:00\u001b[0m\n",
            "\u001b[?25hDownloading tbats-1.1.3-py3-none-any.whl (44 kB)\n",
            "\u001b[2K   \u001b[90m━━━━━━━━━━━━━━━━━━━━━━━━━━━━━━━━━━━━━━━━\u001b[0m \u001b[32m44.0/44.0 kB\u001b[0m \u001b[31m3.0 MB/s\u001b[0m eta \u001b[36m0:00:00\u001b[0m\n",
            "\u001b[?25hDownloading wurlitzer-3.1.1-py3-none-any.whl (8.6 kB)\n",
            "Downloading xxhash-3.5.0-cp310-cp310-manylinux_2_17_x86_64.manylinux2014_x86_64.whl (194 kB)\n",
            "\u001b[2K   \u001b[90m━━━━━━━━━━━━━━━━━━━━━━━━━━━━━━━━━━━━━━━━\u001b[0m \u001b[32m194.1/194.1 kB\u001b[0m \u001b[31m14.9 MB/s\u001b[0m eta \u001b[36m0:00:00\u001b[0m\n",
            "\u001b[?25hDownloading dash-2.18.2-py3-none-any.whl (7.8 MB)\n",
            "\u001b[2K   \u001b[90m━━━━━━━━━━━━━━━━━━━━━━━━━━━━━━━━━━━━━━━━\u001b[0m \u001b[32m7.8/7.8 MB\u001b[0m \u001b[31m67.3 MB/s\u001b[0m eta \u001b[36m0:00:00\u001b[0m\n",
            "\u001b[?25hDownloading dash_core_components-2.0.0-py3-none-any.whl (3.8 kB)\n",
            "Downloading dash_html_components-2.0.0-py3-none-any.whl (4.1 kB)\n",
            "Downloading dash_table-5.0.0-py3-none-any.whl (3.9 kB)\n",
            "Downloading jedi-0.19.2-py2.py3-none-any.whl (1.6 MB)\n",
            "\u001b[2K   \u001b[90m━━━━━━━━━━━━━━━━━━━━━━━━━━━━━━━━━━━━━━━━\u001b[0m \u001b[32m1.6/1.6 MB\u001b[0m \u001b[31m53.7 MB/s\u001b[0m eta \u001b[36m0:00:00\u001b[0m\n",
            "\u001b[?25hDownloading scikit_base-0.7.8-py3-none-any.whl (130 kB)\n",
            "\u001b[2K   \u001b[90m━━━━━━━━━━━━━━━━━━━━━━━━━━━━━━━━━━━━━━━━\u001b[0m \u001b[32m130.1/130.1 kB\u001b[0m \u001b[31m10.0 MB/s\u001b[0m eta \u001b[36m0:00:00\u001b[0m\n",
            "\u001b[?25hDownloading tsdownsample-0.1.3-cp310-cp310-manylinux_2_17_x86_64.manylinux2014_x86_64.whl (2.1 MB)\n",
            "\u001b[2K   \u001b[90m━━━━━━━━━━━━━━━━━━━━━━━━━━━━━━━━━━━━━━━━\u001b[0m \u001b[32m2.1/2.1 MB\u001b[0m \u001b[31m55.2 MB/s\u001b[0m eta \u001b[36m0:00:00\u001b[0m\n",
            "\u001b[?25hDownloading werkzeug-3.0.6-py3-none-any.whl (227 kB)\n",
            "\u001b[2K   \u001b[90m━━━━━━━━━━━━━━━━━━━━━━━━━━━━━━━━━━━━━━━━\u001b[0m \u001b[32m228.0/228.0 kB\u001b[0m \u001b[31m16.5 MB/s\u001b[0m eta \u001b[36m0:00:00\u001b[0m\n",
            "\u001b[?25hDownloading retrying-1.3.4-py3-none-any.whl (11 kB)\n",
            "Building wheels for collected packages: pyod\n",
            "  Building wheel for pyod (setup.py) ... \u001b[?25l\u001b[?25hdone\n",
            "  Created wheel for pyod: filename=pyod-2.0.2-py3-none-any.whl size=198469 sha256=6152d522a6c312b7d8cecb761918cec5c610d807a0184c34f7142aa5182dbc9f\n",
            "  Stored in directory: /root/.cache/pip/wheels/77/c2/20/34d1f15b41b701ba69f42a32304825810d680754d509f91391\n",
            "Successfully built pyod\n",
            "Installing collected packages: kaleido, dash-table, dash-html-components, dash-core-components, xxhash, wurlitzer, Werkzeug, tsdownsample, scipy, scikit-base, schemdraw, retrying, joblib, jedi, deprecation, scikit-learn, pandas, matplotlib, sktime, scikit-plot, pyod, dash, pmdarima, plotly-resampler, category-encoders, tbats, pycaret\n",
            "  Attempting uninstall: Werkzeug\n",
            "    Found existing installation: Werkzeug 3.1.3\n",
            "    Uninstalling Werkzeug-3.1.3:\n",
            "      Successfully uninstalled Werkzeug-3.1.3\n",
            "  Attempting uninstall: scipy\n",
            "    Found existing installation: scipy 1.13.1\n",
            "    Uninstalling scipy-1.13.1:\n",
            "      Successfully uninstalled scipy-1.13.1\n",
            "  Attempting uninstall: joblib\n",
            "    Found existing installation: joblib 1.4.2\n",
            "    Uninstalling joblib-1.4.2:\n",
            "      Successfully uninstalled joblib-1.4.2\n",
            "  Attempting uninstall: scikit-learn\n",
            "    Found existing installation: scikit-learn 1.5.2\n",
            "    Uninstalling scikit-learn-1.5.2:\n",
            "      Successfully uninstalled scikit-learn-1.5.2\n",
            "  Attempting uninstall: pandas\n",
            "    Found existing installation: pandas 2.2.2\n",
            "    Uninstalling pandas-2.2.2:\n",
            "      Successfully uninstalled pandas-2.2.2\n",
            "  Attempting uninstall: matplotlib\n",
            "    Found existing installation: matplotlib 3.8.0\n",
            "    Uninstalling matplotlib-3.8.0:\n",
            "      Successfully uninstalled matplotlib-3.8.0\n",
            "\u001b[31mERROR: pip's dependency resolver does not currently take into account all the packages that are installed. This behaviour is the source of the following dependency conflicts.\n",
            "google-colab 1.0.0 requires pandas==2.2.2, but you have pandas 2.1.4 which is incompatible.\n",
            "mizani 0.13.0 requires pandas>=2.2.0, but you have pandas 2.1.4 which is incompatible.\n",
            "plotnine 0.14.1 requires matplotlib>=3.8.0, but you have matplotlib 3.7.5 which is incompatible.\n",
            "plotnine 0.14.1 requires pandas>=2.2.0, but you have pandas 2.1.4 which is incompatible.\u001b[0m\u001b[31m\n",
            "\u001b[0mSuccessfully installed Werkzeug-3.0.6 category-encoders-2.6.4 dash-2.18.2 dash-core-components-2.0.0 dash-html-components-2.0.0 dash-table-5.0.0 deprecation-2.1.0 jedi-0.19.2 joblib-1.3.2 kaleido-0.2.1 matplotlib-3.7.5 pandas-2.1.4 plotly-resampler-0.10.0 pmdarima-2.0.4 pycaret-3.3.2 pyod-2.0.2 retrying-1.3.4 schemdraw-0.15 scikit-base-0.7.8 scikit-learn-1.4.2 scikit-plot-0.3.7 scipy-1.11.4 sktime-0.26.0 tbats-1.1.3 tsdownsample-0.1.3 wurlitzer-3.1.1 xxhash-3.5.0\n"
          ]
        },
        {
          "output_type": "display_data",
          "data": {
            "application/vnd.colab-display-data+json": {
              "pip_warning": {
                "packages": [
                  "matplotlib",
                  "mpl_toolkits"
                ]
              },
              "id": "71bc93b6543b44aa91be565954a3f91c"
            }
          },
          "metadata": {}
        }
      ]
    },
    {
      "cell_type": "code",
      "execution_count": 1,
      "id": "f5e3f671",
      "metadata": {
        "id": "f5e3f671"
      },
      "outputs": [],
      "source": [
        "# Import necessary libraries\n",
        "import pandas as pd\n",
        "from pycaret.regression import *"
      ]
    },
    {
      "cell_type": "markdown",
      "id": "a0a2ff34",
      "metadata": {
        "id": "a0a2ff34"
      },
      "source": [
        "## 2. Load the Dataset\n",
        "Load the white wine quality dataset and display its structure."
      ]
    },
    {
      "cell_type": "code",
      "execution_count": 2,
      "id": "854c98f3",
      "metadata": {
        "colab": {
          "base_uri": "https://localhost:8080/"
        },
        "id": "854c98f3",
        "outputId": "55b0d6fb-27e9-429c-b3b3-19ea14b9b5d9"
      },
      "outputs": [
        {
          "output_type": "stream",
          "name": "stdout",
          "text": [
            "Dataset shape: (4898, 12)\n",
            "   fixed acidity  volatile acidity  citric acid  residual sugar  chlorides  \\\n",
            "0            7.0              0.27         0.36            20.7      0.045   \n",
            "1            6.3              0.30         0.34             1.6      0.049   \n",
            "2            8.1              0.28         0.40             6.9      0.050   \n",
            "3            7.2              0.23         0.32             8.5      0.058   \n",
            "4            7.2              0.23         0.32             8.5      0.058   \n",
            "\n",
            "   free sulfur dioxide  total sulfur dioxide  density    pH  sulphates  \\\n",
            "0                 45.0                 170.0   1.0010  3.00       0.45   \n",
            "1                 14.0                 132.0   0.9940  3.30       0.49   \n",
            "2                 30.0                  97.0   0.9951  3.26       0.44   \n",
            "3                 47.0                 186.0   0.9956  3.19       0.40   \n",
            "4                 47.0                 186.0   0.9956  3.19       0.40   \n",
            "\n",
            "   alcohol  quality  \n",
            "0      8.8        6  \n",
            "1      9.5        6  \n",
            "2     10.1        6  \n",
            "3      9.9        6  \n",
            "4      9.9        6  \n"
          ]
        }
      ],
      "source": [
        "# Load the dataset\n",
        "url = \"https://archive.ics.uci.edu/ml/machine-learning-databases/wine-quality/winequality-white.csv\"\n",
        "data = pd.read_csv(url, sep=';')\n",
        "\n",
        "# Display the shape and first few rows\n",
        "print(f\"Dataset shape: {data.shape}\")\n",
        "print(data.head())"
      ]
    },
    {
      "cell_type": "markdown",
      "id": "66a5fbff",
      "metadata": {
        "id": "66a5fbff"
      },
      "source": [
        "## 3. Data Summary\n",
        "Generate basic descriptive statistics and check for missing values."
      ]
    },
    {
      "cell_type": "code",
      "execution_count": 3,
      "id": "f972875a",
      "metadata": {
        "colab": {
          "base_uri": "https://localhost:8080/"
        },
        "id": "f972875a",
        "outputId": "e518a4d4-1fae-434c-a58a-cb58ff3c31dd"
      },
      "outputs": [
        {
          "output_type": "stream",
          "name": "stdout",
          "text": [
            "                       count        mean        std      min         25%  \\\n",
            "fixed acidity         4898.0    6.854788   0.843868  3.80000    6.300000   \n",
            "volatile acidity      4898.0    0.278241   0.100795  0.08000    0.210000   \n",
            "citric acid           4898.0    0.334192   0.121020  0.00000    0.270000   \n",
            "residual sugar        4898.0    6.391415   5.072058  0.60000    1.700000   \n",
            "chlorides             4898.0    0.045772   0.021848  0.00900    0.036000   \n",
            "free sulfur dioxide   4898.0   35.308085  17.007137  2.00000   23.000000   \n",
            "total sulfur dioxide  4898.0  138.360657  42.498065  9.00000  108.000000   \n",
            "density               4898.0    0.994027   0.002991  0.98711    0.991723   \n",
            "pH                    4898.0    3.188267   0.151001  2.72000    3.090000   \n",
            "sulphates             4898.0    0.489847   0.114126  0.22000    0.410000   \n",
            "alcohol               4898.0   10.514267   1.230621  8.00000    9.500000   \n",
            "quality               4898.0    5.877909   0.885639  3.00000    5.000000   \n",
            "\n",
            "                            50%       75%        max  Missing Values  \n",
            "fixed acidity           6.80000    7.3000   14.20000               0  \n",
            "volatile acidity        0.26000    0.3200    1.10000               0  \n",
            "citric acid             0.32000    0.3900    1.66000               0  \n",
            "residual sugar          5.20000    9.9000   65.80000               0  \n",
            "chlorides               0.04300    0.0500    0.34600               0  \n",
            "free sulfur dioxide    34.00000   46.0000  289.00000               0  \n",
            "total sulfur dioxide  134.00000  167.0000  440.00000               0  \n",
            "density                 0.99374    0.9961    1.03898               0  \n",
            "pH                      3.18000    3.2800    3.82000               0  \n",
            "sulphates               0.47000    0.5500    1.08000               0  \n",
            "alcohol                10.40000   11.4000   14.20000               0  \n",
            "quality                 6.00000    6.0000    9.00000               0  \n"
          ]
        }
      ],
      "source": [
        "# Generating descriptive statistics\n",
        "descriptive_stats = data.describe()\n",
        "\n",
        "# Checking for missing values\n",
        "missing_values = data.isnull().sum()\n",
        "\n",
        "# Creating a combined table for better visualization\n",
        "combined_table = descriptive_stats.T\n",
        "combined_table['Missing Values'] = missing_values\n",
        "\n",
        "# Displaying the table\n",
        "print(combined_table)"
      ]
    },
    {
      "cell_type": "markdown",
      "id": "8064acf8",
      "metadata": {
        "id": "8064acf8"
      },
      "source": [
        "## 4. Setup the PyCaret Environment\n",
        "Use the PyCaret regression module to preprocess the data and prepare it for modeling."
      ]
    },
    {
      "cell_type": "code",
      "execution_count": 4,
      "id": "ad4e1cbe",
      "metadata": {
        "colab": {
          "base_uri": "https://localhost:8080/",
          "height": 645
        },
        "id": "ad4e1cbe",
        "outputId": "f8b6621f-86d5-4ad1-c43d-b7b93abdeeca"
      },
      "outputs": [
        {
          "output_type": "display_data",
          "data": {
            "text/plain": [
              "<pandas.io.formats.style.Styler at 0x78a31c5dbb80>"
            ],
            "text/html": [
              "<style type=\"text/css\">\n",
              "#T_8925b_row8_col1 {\n",
              "  background-color: lightgreen;\n",
              "}\n",
              "</style>\n",
              "<table id=\"T_8925b\" class=\"dataframe\">\n",
              "  <thead>\n",
              "    <tr>\n",
              "      <th class=\"blank level0\" >&nbsp;</th>\n",
              "      <th id=\"T_8925b_level0_col0\" class=\"col_heading level0 col0\" >Description</th>\n",
              "      <th id=\"T_8925b_level0_col1\" class=\"col_heading level0 col1\" >Value</th>\n",
              "    </tr>\n",
              "  </thead>\n",
              "  <tbody>\n",
              "    <tr>\n",
              "      <th id=\"T_8925b_level0_row0\" class=\"row_heading level0 row0\" >0</th>\n",
              "      <td id=\"T_8925b_row0_col0\" class=\"data row0 col0\" >Session id</td>\n",
              "      <td id=\"T_8925b_row0_col1\" class=\"data row0 col1\" >123</td>\n",
              "    </tr>\n",
              "    <tr>\n",
              "      <th id=\"T_8925b_level0_row1\" class=\"row_heading level0 row1\" >1</th>\n",
              "      <td id=\"T_8925b_row1_col0\" class=\"data row1 col0\" >Target</td>\n",
              "      <td id=\"T_8925b_row1_col1\" class=\"data row1 col1\" >alcohol</td>\n",
              "    </tr>\n",
              "    <tr>\n",
              "      <th id=\"T_8925b_level0_row2\" class=\"row_heading level0 row2\" >2</th>\n",
              "      <td id=\"T_8925b_row2_col0\" class=\"data row2 col0\" >Target type</td>\n",
              "      <td id=\"T_8925b_row2_col1\" class=\"data row2 col1\" >Regression</td>\n",
              "    </tr>\n",
              "    <tr>\n",
              "      <th id=\"T_8925b_level0_row3\" class=\"row_heading level0 row3\" >3</th>\n",
              "      <td id=\"T_8925b_row3_col0\" class=\"data row3 col0\" >Original data shape</td>\n",
              "      <td id=\"T_8925b_row3_col1\" class=\"data row3 col1\" >(4898, 12)</td>\n",
              "    </tr>\n",
              "    <tr>\n",
              "      <th id=\"T_8925b_level0_row4\" class=\"row_heading level0 row4\" >4</th>\n",
              "      <td id=\"T_8925b_row4_col0\" class=\"data row4 col0\" >Transformed data shape</td>\n",
              "      <td id=\"T_8925b_row4_col1\" class=\"data row4 col1\" >(4898, 12)</td>\n",
              "    </tr>\n",
              "    <tr>\n",
              "      <th id=\"T_8925b_level0_row5\" class=\"row_heading level0 row5\" >5</th>\n",
              "      <td id=\"T_8925b_row5_col0\" class=\"data row5 col0\" >Transformed train set shape</td>\n",
              "      <td id=\"T_8925b_row5_col1\" class=\"data row5 col1\" >(3428, 12)</td>\n",
              "    </tr>\n",
              "    <tr>\n",
              "      <th id=\"T_8925b_level0_row6\" class=\"row_heading level0 row6\" >6</th>\n",
              "      <td id=\"T_8925b_row6_col0\" class=\"data row6 col0\" >Transformed test set shape</td>\n",
              "      <td id=\"T_8925b_row6_col1\" class=\"data row6 col1\" >(1470, 12)</td>\n",
              "    </tr>\n",
              "    <tr>\n",
              "      <th id=\"T_8925b_level0_row7\" class=\"row_heading level0 row7\" >7</th>\n",
              "      <td id=\"T_8925b_row7_col0\" class=\"data row7 col0\" >Numeric features</td>\n",
              "      <td id=\"T_8925b_row7_col1\" class=\"data row7 col1\" >11</td>\n",
              "    </tr>\n",
              "    <tr>\n",
              "      <th id=\"T_8925b_level0_row8\" class=\"row_heading level0 row8\" >8</th>\n",
              "      <td id=\"T_8925b_row8_col0\" class=\"data row8 col0\" >Preprocess</td>\n",
              "      <td id=\"T_8925b_row8_col1\" class=\"data row8 col1\" >True</td>\n",
              "    </tr>\n",
              "    <tr>\n",
              "      <th id=\"T_8925b_level0_row9\" class=\"row_heading level0 row9\" >9</th>\n",
              "      <td id=\"T_8925b_row9_col0\" class=\"data row9 col0\" >Imputation type</td>\n",
              "      <td id=\"T_8925b_row9_col1\" class=\"data row9 col1\" >simple</td>\n",
              "    </tr>\n",
              "    <tr>\n",
              "      <th id=\"T_8925b_level0_row10\" class=\"row_heading level0 row10\" >10</th>\n",
              "      <td id=\"T_8925b_row10_col0\" class=\"data row10 col0\" >Numeric imputation</td>\n",
              "      <td id=\"T_8925b_row10_col1\" class=\"data row10 col1\" >mean</td>\n",
              "    </tr>\n",
              "    <tr>\n",
              "      <th id=\"T_8925b_level0_row11\" class=\"row_heading level0 row11\" >11</th>\n",
              "      <td id=\"T_8925b_row11_col0\" class=\"data row11 col0\" >Categorical imputation</td>\n",
              "      <td id=\"T_8925b_row11_col1\" class=\"data row11 col1\" >mode</td>\n",
              "    </tr>\n",
              "    <tr>\n",
              "      <th id=\"T_8925b_level0_row12\" class=\"row_heading level0 row12\" >12</th>\n",
              "      <td id=\"T_8925b_row12_col0\" class=\"data row12 col0\" >Fold Generator</td>\n",
              "      <td id=\"T_8925b_row12_col1\" class=\"data row12 col1\" >KFold</td>\n",
              "    </tr>\n",
              "    <tr>\n",
              "      <th id=\"T_8925b_level0_row13\" class=\"row_heading level0 row13\" >13</th>\n",
              "      <td id=\"T_8925b_row13_col0\" class=\"data row13 col0\" >Fold Number</td>\n",
              "      <td id=\"T_8925b_row13_col1\" class=\"data row13 col1\" >10</td>\n",
              "    </tr>\n",
              "    <tr>\n",
              "      <th id=\"T_8925b_level0_row14\" class=\"row_heading level0 row14\" >14</th>\n",
              "      <td id=\"T_8925b_row14_col0\" class=\"data row14 col0\" >CPU Jobs</td>\n",
              "      <td id=\"T_8925b_row14_col1\" class=\"data row14 col1\" >-1</td>\n",
              "    </tr>\n",
              "    <tr>\n",
              "      <th id=\"T_8925b_level0_row15\" class=\"row_heading level0 row15\" >15</th>\n",
              "      <td id=\"T_8925b_row15_col0\" class=\"data row15 col0\" >Use GPU</td>\n",
              "      <td id=\"T_8925b_row15_col1\" class=\"data row15 col1\" >False</td>\n",
              "    </tr>\n",
              "    <tr>\n",
              "      <th id=\"T_8925b_level0_row16\" class=\"row_heading level0 row16\" >16</th>\n",
              "      <td id=\"T_8925b_row16_col0\" class=\"data row16 col0\" >Log Experiment</td>\n",
              "      <td id=\"T_8925b_row16_col1\" class=\"data row16 col1\" >False</td>\n",
              "    </tr>\n",
              "    <tr>\n",
              "      <th id=\"T_8925b_level0_row17\" class=\"row_heading level0 row17\" >17</th>\n",
              "      <td id=\"T_8925b_row17_col0\" class=\"data row17 col0\" >Experiment Name</td>\n",
              "      <td id=\"T_8925b_row17_col1\" class=\"data row17 col1\" >reg-default-name</td>\n",
              "    </tr>\n",
              "    <tr>\n",
              "      <th id=\"T_8925b_level0_row18\" class=\"row_heading level0 row18\" >18</th>\n",
              "      <td id=\"T_8925b_row18_col0\" class=\"data row18 col0\" >USI</td>\n",
              "      <td id=\"T_8925b_row18_col1\" class=\"data row18 col1\" >7398</td>\n",
              "    </tr>\n",
              "  </tbody>\n",
              "</table>\n"
            ]
          },
          "metadata": {}
        }
      ],
      "source": [
        "# Initialize PyCaret regression environment\n",
        "s = setup(data=data, target='alcohol', session_id=123)"
      ]
    },
    {
      "cell_type": "markdown",
      "id": "4a3f6645",
      "metadata": {
        "id": "4a3f6645"
      },
      "source": [
        "## 5. Compare Models\n",
        "Compare different regression models and select the best-performing one."
      ]
    },
    {
      "cell_type": "code",
      "execution_count": 5,
      "id": "e0d51e13",
      "metadata": {
        "colab": {
          "base_uri": "https://localhost:8080/",
          "height": 645,
          "referenced_widgets": [
            "29c3047b160642bf95094772377aa0fb",
            "fd7317cfc37248568f77395e100e86fe",
            "e2d13ab652054f3b8c6bfea6c49bcea6",
            "4044421a55d7424283ea530d302eb18c",
            "850ecc6e20924c4f94ae56d57cf0d573",
            "d0ceff48af2c42ada5aea2b93815475f",
            "0c3143ff2cad4ff9a98b6814b78723ec",
            "3dbfdbc87eea4fd2971dfc2f2911c906",
            "e7f75c82096842ec808b9c9dfbb2dff8",
            "5986699448404f3891120d549a45ef74",
            "d0609ca67bb14d70991b8635525acfa4"
          ]
        },
        "id": "e0d51e13",
        "outputId": "336360d0-2546-4910-8fd2-804aad229630"
      },
      "outputs": [
        {
          "output_type": "display_data",
          "data": {
            "text/plain": [
              "<IPython.core.display.HTML object>"
            ],
            "text/html": []
          },
          "metadata": {}
        },
        {
          "output_type": "display_data",
          "data": {
            "text/plain": [
              "<pandas.io.formats.style.Styler at 0x78a31584f070>"
            ],
            "text/html": [
              "<style type=\"text/css\">\n",
              "#T_d6673 th {\n",
              "  text-align: left;\n",
              "}\n",
              "#T_d6673_row0_col0, #T_d6673_row0_col1, #T_d6673_row0_col6, #T_d6673_row1_col0, #T_d6673_row1_col1, #T_d6673_row1_col2, #T_d6673_row1_col3, #T_d6673_row1_col4, #T_d6673_row1_col5, #T_d6673_row1_col6, #T_d6673_row2_col0, #T_d6673_row2_col1, #T_d6673_row2_col2, #T_d6673_row2_col3, #T_d6673_row2_col4, #T_d6673_row2_col5, #T_d6673_row2_col6, #T_d6673_row3_col0, #T_d6673_row3_col2, #T_d6673_row3_col3, #T_d6673_row3_col4, #T_d6673_row3_col5, #T_d6673_row4_col0, #T_d6673_row4_col1, #T_d6673_row4_col2, #T_d6673_row4_col3, #T_d6673_row4_col4, #T_d6673_row4_col5, #T_d6673_row4_col6, #T_d6673_row5_col0, #T_d6673_row5_col1, #T_d6673_row5_col2, #T_d6673_row5_col3, #T_d6673_row5_col4, #T_d6673_row5_col5, #T_d6673_row5_col6, #T_d6673_row6_col0, #T_d6673_row6_col1, #T_d6673_row6_col2, #T_d6673_row6_col3, #T_d6673_row6_col4, #T_d6673_row6_col5, #T_d6673_row6_col6, #T_d6673_row7_col0, #T_d6673_row7_col1, #T_d6673_row7_col2, #T_d6673_row7_col3, #T_d6673_row7_col4, #T_d6673_row7_col5, #T_d6673_row7_col6, #T_d6673_row8_col0, #T_d6673_row8_col1, #T_d6673_row8_col2, #T_d6673_row8_col3, #T_d6673_row8_col4, #T_d6673_row8_col5, #T_d6673_row8_col6, #T_d6673_row9_col0, #T_d6673_row9_col1, #T_d6673_row9_col2, #T_d6673_row9_col3, #T_d6673_row9_col4, #T_d6673_row9_col5, #T_d6673_row9_col6, #T_d6673_row10_col0, #T_d6673_row10_col1, #T_d6673_row10_col2, #T_d6673_row10_col3, #T_d6673_row10_col4, #T_d6673_row10_col5, #T_d6673_row10_col6, #T_d6673_row11_col0, #T_d6673_row11_col1, #T_d6673_row11_col2, #T_d6673_row11_col3, #T_d6673_row11_col4, #T_d6673_row11_col5, #T_d6673_row11_col6, #T_d6673_row12_col0, #T_d6673_row12_col1, #T_d6673_row12_col2, #T_d6673_row12_col3, #T_d6673_row12_col4, #T_d6673_row12_col5, #T_d6673_row12_col6, #T_d6673_row13_col0, #T_d6673_row13_col1, #T_d6673_row13_col2, #T_d6673_row13_col3, #T_d6673_row13_col4, #T_d6673_row13_col5, #T_d6673_row13_col6, #T_d6673_row14_col0, #T_d6673_row14_col1, #T_d6673_row14_col2, #T_d6673_row14_col3, #T_d6673_row14_col4, #T_d6673_row14_col5, #T_d6673_row14_col6, #T_d6673_row15_col0, #T_d6673_row15_col1, #T_d6673_row15_col2, #T_d6673_row15_col3, #T_d6673_row15_col4, #T_d6673_row15_col5, #T_d6673_row15_col6, #T_d6673_row16_col0, #T_d6673_row16_col1, #T_d6673_row16_col2, #T_d6673_row16_col3, #T_d6673_row16_col4, #T_d6673_row16_col5, #T_d6673_row16_col6, #T_d6673_row17_col0, #T_d6673_row17_col1, #T_d6673_row17_col2, #T_d6673_row17_col3, #T_d6673_row17_col4, #T_d6673_row17_col5, #T_d6673_row17_col6, #T_d6673_row18_col0, #T_d6673_row18_col1, #T_d6673_row18_col2, #T_d6673_row18_col3, #T_d6673_row18_col4, #T_d6673_row18_col5, #T_d6673_row18_col6 {\n",
              "  text-align: left;\n",
              "}\n",
              "#T_d6673_row0_col2, #T_d6673_row0_col3, #T_d6673_row0_col4, #T_d6673_row0_col5, #T_d6673_row3_col1, #T_d6673_row3_col6 {\n",
              "  text-align: left;\n",
              "  background-color: yellow;\n",
              "}\n",
              "#T_d6673_row0_col7, #T_d6673_row1_col7, #T_d6673_row2_col7, #T_d6673_row3_col7, #T_d6673_row4_col7, #T_d6673_row5_col7, #T_d6673_row6_col7, #T_d6673_row7_col7, #T_d6673_row8_col7, #T_d6673_row9_col7, #T_d6673_row10_col7, #T_d6673_row11_col7, #T_d6673_row12_col7, #T_d6673_row13_col7, #T_d6673_row14_col7, #T_d6673_row15_col7, #T_d6673_row17_col7, #T_d6673_row18_col7 {\n",
              "  text-align: left;\n",
              "  background-color: lightgrey;\n",
              "}\n",
              "#T_d6673_row16_col7 {\n",
              "  text-align: left;\n",
              "  background-color: yellow;\n",
              "  background-color: lightgrey;\n",
              "}\n",
              "</style>\n",
              "<table id=\"T_d6673\" class=\"dataframe\">\n",
              "  <thead>\n",
              "    <tr>\n",
              "      <th class=\"blank level0\" >&nbsp;</th>\n",
              "      <th id=\"T_d6673_level0_col0\" class=\"col_heading level0 col0\" >Model</th>\n",
              "      <th id=\"T_d6673_level0_col1\" class=\"col_heading level0 col1\" >MAE</th>\n",
              "      <th id=\"T_d6673_level0_col2\" class=\"col_heading level0 col2\" >MSE</th>\n",
              "      <th id=\"T_d6673_level0_col3\" class=\"col_heading level0 col3\" >RMSE</th>\n",
              "      <th id=\"T_d6673_level0_col4\" class=\"col_heading level0 col4\" >R2</th>\n",
              "      <th id=\"T_d6673_level0_col5\" class=\"col_heading level0 col5\" >RMSLE</th>\n",
              "      <th id=\"T_d6673_level0_col6\" class=\"col_heading level0 col6\" >MAPE</th>\n",
              "      <th id=\"T_d6673_level0_col7\" class=\"col_heading level0 col7\" >TT (Sec)</th>\n",
              "    </tr>\n",
              "  </thead>\n",
              "  <tbody>\n",
              "    <tr>\n",
              "      <th id=\"T_d6673_level0_row0\" class=\"row_heading level0 row0\" >lightgbm</th>\n",
              "      <td id=\"T_d6673_row0_col0\" class=\"data row0 col0\" >Light Gradient Boosting Machine</td>\n",
              "      <td id=\"T_d6673_row0_col1\" class=\"data row0 col1\" >0.2440</td>\n",
              "      <td id=\"T_d6673_row0_col2\" class=\"data row0 col2\" >0.1098</td>\n",
              "      <td id=\"T_d6673_row0_col3\" class=\"data row0 col3\" >0.3304</td>\n",
              "      <td id=\"T_d6673_row0_col4\" class=\"data row0 col4\" >0.9265</td>\n",
              "      <td id=\"T_d6673_row0_col5\" class=\"data row0 col5\" >0.0286</td>\n",
              "      <td id=\"T_d6673_row0_col6\" class=\"data row0 col6\" >0.0232</td>\n",
              "      <td id=\"T_d6673_row0_col7\" class=\"data row0 col7\" >0.3410</td>\n",
              "    </tr>\n",
              "    <tr>\n",
              "      <th id=\"T_d6673_level0_row1\" class=\"row_heading level0 row1\" >xgboost</th>\n",
              "      <td id=\"T_d6673_row1_col0\" class=\"data row1 col0\" >Extreme Gradient Boosting</td>\n",
              "      <td id=\"T_d6673_row1_col1\" class=\"data row1 col1\" >0.2285</td>\n",
              "      <td id=\"T_d6673_row1_col2\" class=\"data row1 col2\" >0.1147</td>\n",
              "      <td id=\"T_d6673_row1_col3\" class=\"data row1 col3\" >0.3375</td>\n",
              "      <td id=\"T_d6673_row1_col4\" class=\"data row1 col4\" >0.9233</td>\n",
              "      <td id=\"T_d6673_row1_col5\" class=\"data row1 col5\" >0.0291</td>\n",
              "      <td id=\"T_d6673_row1_col6\" class=\"data row1 col6\" >0.0216</td>\n",
              "      <td id=\"T_d6673_row1_col7\" class=\"data row1 col7\" >0.2050</td>\n",
              "    </tr>\n",
              "    <tr>\n",
              "      <th id=\"T_d6673_level0_row2\" class=\"row_heading level0 row2\" >rf</th>\n",
              "      <td id=\"T_d6673_row2_col0\" class=\"data row2 col0\" >Random Forest Regressor</td>\n",
              "      <td id=\"T_d6673_row2_col1\" class=\"data row2 col1\" >0.2449</td>\n",
              "      <td id=\"T_d6673_row2_col2\" class=\"data row2 col2\" >0.1242</td>\n",
              "      <td id=\"T_d6673_row2_col3\" class=\"data row2 col3\" >0.3510</td>\n",
              "      <td id=\"T_d6673_row2_col4\" class=\"data row2 col4\" >0.9167</td>\n",
              "      <td id=\"T_d6673_row2_col5\" class=\"data row2 col5\" >0.0302</td>\n",
              "      <td id=\"T_d6673_row2_col6\" class=\"data row2 col6\" >0.0231</td>\n",
              "      <td id=\"T_d6673_row2_col7\" class=\"data row2 col7\" >1.9530</td>\n",
              "    </tr>\n",
              "    <tr>\n",
              "      <th id=\"T_d6673_level0_row3\" class=\"row_heading level0 row3\" >et</th>\n",
              "      <td id=\"T_d6673_row3_col0\" class=\"data row3 col0\" >Extra Trees Regressor</td>\n",
              "      <td id=\"T_d6673_row3_col1\" class=\"data row3 col1\" >0.2261</td>\n",
              "      <td id=\"T_d6673_row3_col2\" class=\"data row3 col2\" >0.1252</td>\n",
              "      <td id=\"T_d6673_row3_col3\" class=\"data row3 col3\" >0.3522</td>\n",
              "      <td id=\"T_d6673_row3_col4\" class=\"data row3 col4\" >0.9160</td>\n",
              "      <td id=\"T_d6673_row3_col5\" class=\"data row3 col5\" >0.0303</td>\n",
              "      <td id=\"T_d6673_row3_col6\" class=\"data row3 col6\" >0.0213</td>\n",
              "      <td id=\"T_d6673_row3_col7\" class=\"data row3 col7\" >1.1180</td>\n",
              "    </tr>\n",
              "    <tr>\n",
              "      <th id=\"T_d6673_level0_row4\" class=\"row_heading level0 row4\" >gbr</th>\n",
              "      <td id=\"T_d6673_row4_col0\" class=\"data row4 col0\" >Gradient Boosting Regressor</td>\n",
              "      <td id=\"T_d6673_row4_col1\" class=\"data row4 col1\" >0.2969</td>\n",
              "      <td id=\"T_d6673_row4_col2\" class=\"data row4 col2\" >0.1538</td>\n",
              "      <td id=\"T_d6673_row4_col3\" class=\"data row4 col3\" >0.3913</td>\n",
              "      <td id=\"T_d6673_row4_col4\" class=\"data row4 col4\" >0.8967</td>\n",
              "      <td id=\"T_d6673_row4_col5\" class=\"data row4 col5\" >0.0339</td>\n",
              "      <td id=\"T_d6673_row4_col6\" class=\"data row4 col6\" >0.0284</td>\n",
              "      <td id=\"T_d6673_row4_col7\" class=\"data row4 col7\" >0.7550</td>\n",
              "    </tr>\n",
              "    <tr>\n",
              "      <th id=\"T_d6673_level0_row5\" class=\"row_heading level0 row5\" >dt</th>\n",
              "      <td id=\"T_d6673_row5_col0\" class=\"data row5 col0\" >Decision Tree Regressor</td>\n",
              "      <td id=\"T_d6673_row5_col1\" class=\"data row5 col1\" >0.3049</td>\n",
              "      <td id=\"T_d6673_row5_col2\" class=\"data row5 col2\" >0.2404</td>\n",
              "      <td id=\"T_d6673_row5_col3\" class=\"data row5 col3\" >0.4888</td>\n",
              "      <td id=\"T_d6673_row5_col4\" class=\"data row5 col4\" >0.8389</td>\n",
              "      <td id=\"T_d6673_row5_col5\" class=\"data row5 col5\" >0.0420</td>\n",
              "      <td id=\"T_d6673_row5_col6\" class=\"data row5 col6\" >0.0288</td>\n",
              "      <td id=\"T_d6673_row5_col7\" class=\"data row5 col7\" >0.0520</td>\n",
              "    </tr>\n",
              "    <tr>\n",
              "      <th id=\"T_d6673_level0_row6\" class=\"row_heading level0 row6\" >lr</th>\n",
              "      <td id=\"T_d6673_row6_col0\" class=\"data row6 col0\" >Linear Regression</td>\n",
              "      <td id=\"T_d6673_row6_col1\" class=\"data row6 col1\" >0.3044</td>\n",
              "      <td id=\"T_d6673_row6_col2\" class=\"data row6 col2\" >0.2410</td>\n",
              "      <td id=\"T_d6673_row6_col3\" class=\"data row6 col3\" >0.4514</td>\n",
              "      <td id=\"T_d6673_row6_col4\" class=\"data row6 col4\" >0.8337</td>\n",
              "      <td id=\"T_d6673_row6_col5\" class=\"data row6 col5\" >0.0355</td>\n",
              "      <td id=\"T_d6673_row6_col6\" class=\"data row6 col6\" >0.0293</td>\n",
              "      <td id=\"T_d6673_row6_col7\" class=\"data row6 col7\" >0.6300</td>\n",
              "    </tr>\n",
              "    <tr>\n",
              "      <th id=\"T_d6673_level0_row7\" class=\"row_heading level0 row7\" >br</th>\n",
              "      <td id=\"T_d6673_row7_col0\" class=\"data row7 col0\" >Bayesian Ridge</td>\n",
              "      <td id=\"T_d6673_row7_col1\" class=\"data row7 col1\" >0.3045</td>\n",
              "      <td id=\"T_d6673_row7_col2\" class=\"data row7 col2\" >0.2410</td>\n",
              "      <td id=\"T_d6673_row7_col3\" class=\"data row7 col3\" >0.4516</td>\n",
              "      <td id=\"T_d6673_row7_col4\" class=\"data row7 col4\" >0.8337</td>\n",
              "      <td id=\"T_d6673_row7_col5\" class=\"data row7 col5\" >0.0355</td>\n",
              "      <td id=\"T_d6673_row7_col6\" class=\"data row7 col6\" >0.0293</td>\n",
              "      <td id=\"T_d6673_row7_col7\" class=\"data row7 col7\" >0.0310</td>\n",
              "    </tr>\n",
              "    <tr>\n",
              "      <th id=\"T_d6673_level0_row8\" class=\"row_heading level0 row8\" >ada</th>\n",
              "      <td id=\"T_d6673_row8_col0\" class=\"data row8 col0\" >AdaBoost Regressor</td>\n",
              "      <td id=\"T_d6673_row8_col1\" class=\"data row8 col1\" >0.4811</td>\n",
              "      <td id=\"T_d6673_row8_col2\" class=\"data row8 col2\" >0.3440</td>\n",
              "      <td id=\"T_d6673_row8_col3\" class=\"data row8 col3\" >0.5863</td>\n",
              "      <td id=\"T_d6673_row8_col4\" class=\"data row8 col4\" >0.7692</td>\n",
              "      <td id=\"T_d6673_row8_col5\" class=\"data row8 col5\" >0.0518</td>\n",
              "      <td id=\"T_d6673_row8_col6\" class=\"data row8 col6\" >0.0471</td>\n",
              "      <td id=\"T_d6673_row8_col7\" class=\"data row8 col7\" >0.2920</td>\n",
              "    </tr>\n",
              "    <tr>\n",
              "      <th id=\"T_d6673_level0_row9\" class=\"row_heading level0 row9\" >ridge</th>\n",
              "      <td id=\"T_d6673_row9_col0\" class=\"data row9 col0\" >Ridge Regression</td>\n",
              "      <td id=\"T_d6673_row9_col1\" class=\"data row9 col1\" >0.6974</td>\n",
              "      <td id=\"T_d6673_row9_col2\" class=\"data row9 col2\" >0.7636</td>\n",
              "      <td id=\"T_d6673_row9_col3\" class=\"data row9 col3\" >0.8729</td>\n",
              "      <td id=\"T_d6673_row9_col4\" class=\"data row9 col4\" >0.4892</td>\n",
              "      <td id=\"T_d6673_row9_col5\" class=\"data row9 col5\" >0.0752</td>\n",
              "      <td id=\"T_d6673_row9_col6\" class=\"data row9 col6\" >0.0664</td>\n",
              "      <td id=\"T_d6673_row9_col7\" class=\"data row9 col7\" >0.0540</td>\n",
              "    </tr>\n",
              "    <tr>\n",
              "      <th id=\"T_d6673_level0_row10\" class=\"row_heading level0 row10\" >huber</th>\n",
              "      <td id=\"T_d6673_row10_col0\" class=\"data row10 col0\" >Huber Regressor</td>\n",
              "      <td id=\"T_d6673_row10_col1\" class=\"data row10 col1\" >0.7430</td>\n",
              "      <td id=\"T_d6673_row10_col2\" class=\"data row10 col2\" >0.8729</td>\n",
              "      <td id=\"T_d6673_row10_col3\" class=\"data row10 col3\" >0.9337</td>\n",
              "      <td id=\"T_d6673_row10_col4\" class=\"data row10 col4\" >0.4161</td>\n",
              "      <td id=\"T_d6673_row10_col5\" class=\"data row10 col5\" >0.0800</td>\n",
              "      <td id=\"T_d6673_row10_col6\" class=\"data row10 col6\" >0.0703</td>\n",
              "      <td id=\"T_d6673_row10_col7\" class=\"data row10 col7\" >0.1010</td>\n",
              "    </tr>\n",
              "    <tr>\n",
              "      <th id=\"T_d6673_level0_row11\" class=\"row_heading level0 row11\" >knn</th>\n",
              "      <td id=\"T_d6673_row11_col0\" class=\"data row11 col0\" >K Neighbors Regressor</td>\n",
              "      <td id=\"T_d6673_row11_col1\" class=\"data row11 col1\" >0.7715</td>\n",
              "      <td id=\"T_d6673_row11_col2\" class=\"data row11 col2\" >1.0227</td>\n",
              "      <td id=\"T_d6673_row11_col3\" class=\"data row11 col3\" >1.0099</td>\n",
              "      <td id=\"T_d6673_row11_col4\" class=\"data row11 col4\" >0.3178</td>\n",
              "      <td id=\"T_d6673_row11_col5\" class=\"data row11 col5\" >0.0857</td>\n",
              "      <td id=\"T_d6673_row11_col6\" class=\"data row11 col6\" >0.0726</td>\n",
              "      <td id=\"T_d6673_row11_col7\" class=\"data row11 col7\" >0.0380</td>\n",
              "    </tr>\n",
              "    <tr>\n",
              "      <th id=\"T_d6673_level0_row12\" class=\"row_heading level0 row12\" >en</th>\n",
              "      <td id=\"T_d6673_row12_col0\" class=\"data row12 col0\" >Elastic Net</td>\n",
              "      <td id=\"T_d6673_row12_col1\" class=\"data row12 col1\" >0.8303</td>\n",
              "      <td id=\"T_d6673_row12_col2\" class=\"data row12 col2\" >1.0698</td>\n",
              "      <td id=\"T_d6673_row12_col3\" class=\"data row12 col3\" >1.0337</td>\n",
              "      <td id=\"T_d6673_row12_col4\" class=\"data row12 col4\" >0.2854</td>\n",
              "      <td id=\"T_d6673_row12_col5\" class=\"data row12 col5\" >0.0880</td>\n",
              "      <td id=\"T_d6673_row12_col6\" class=\"data row12 col6\" >0.0785</td>\n",
              "      <td id=\"T_d6673_row12_col7\" class=\"data row12 col7\" >0.0280</td>\n",
              "    </tr>\n",
              "    <tr>\n",
              "      <th id=\"T_d6673_level0_row13\" class=\"row_heading level0 row13\" >lasso</th>\n",
              "      <td id=\"T_d6673_row13_col0\" class=\"data row13 col0\" >Lasso Regression</td>\n",
              "      <td id=\"T_d6673_row13_col1\" class=\"data row13 col1\" >0.8490</td>\n",
              "      <td id=\"T_d6673_row13_col2\" class=\"data row13 col2\" >1.1028</td>\n",
              "      <td id=\"T_d6673_row13_col3\" class=\"data row13 col3\" >1.0496</td>\n",
              "      <td id=\"T_d6673_row13_col4\" class=\"data row13 col4\" >0.2635</td>\n",
              "      <td id=\"T_d6673_row13_col5\" class=\"data row13 col5\" >0.0894</td>\n",
              "      <td id=\"T_d6673_row13_col6\" class=\"data row13 col6\" >0.0804</td>\n",
              "      <td id=\"T_d6673_row13_col7\" class=\"data row13 col7\" >0.0550</td>\n",
              "    </tr>\n",
              "    <tr>\n",
              "      <th id=\"T_d6673_level0_row14\" class=\"row_heading level0 row14\" >llar</th>\n",
              "      <td id=\"T_d6673_row14_col0\" class=\"data row14 col0\" >Lasso Least Angle Regression</td>\n",
              "      <td id=\"T_d6673_row14_col1\" class=\"data row14 col1\" >0.8490</td>\n",
              "      <td id=\"T_d6673_row14_col2\" class=\"data row14 col2\" >1.1028</td>\n",
              "      <td id=\"T_d6673_row14_col3\" class=\"data row14 col3\" >1.0496</td>\n",
              "      <td id=\"T_d6673_row14_col4\" class=\"data row14 col4\" >0.2635</td>\n",
              "      <td id=\"T_d6673_row14_col5\" class=\"data row14 col5\" >0.0894</td>\n",
              "      <td id=\"T_d6673_row14_col6\" class=\"data row14 col6\" >0.0804</td>\n",
              "      <td id=\"T_d6673_row14_col7\" class=\"data row14 col7\" >0.0270</td>\n",
              "    </tr>\n",
              "    <tr>\n",
              "      <th id=\"T_d6673_level0_row15\" class=\"row_heading level0 row15\" >omp</th>\n",
              "      <td id=\"T_d6673_row15_col0\" class=\"data row15 col0\" >Orthogonal Matching Pursuit</td>\n",
              "      <td id=\"T_d6673_row15_col1\" class=\"data row15 col1\" >0.8884</td>\n",
              "      <td id=\"T_d6673_row15_col2\" class=\"data row15 col2\" >1.1975</td>\n",
              "      <td id=\"T_d6673_row15_col3\" class=\"data row15 col3\" >1.0937</td>\n",
              "      <td id=\"T_d6673_row15_col4\" class=\"data row15 col4\" >0.2001</td>\n",
              "      <td id=\"T_d6673_row15_col5\" class=\"data row15 col5\" >0.0936</td>\n",
              "      <td id=\"T_d6673_row15_col6\" class=\"data row15 col6\" >0.0844</td>\n",
              "      <td id=\"T_d6673_row15_col7\" class=\"data row15 col7\" >0.0280</td>\n",
              "    </tr>\n",
              "    <tr>\n",
              "      <th id=\"T_d6673_level0_row16\" class=\"row_heading level0 row16\" >dummy</th>\n",
              "      <td id=\"T_d6673_row16_col0\" class=\"data row16 col0\" >Dummy Regressor</td>\n",
              "      <td id=\"T_d6673_row16_col1\" class=\"data row16 col1\" >1.0350</td>\n",
              "      <td id=\"T_d6673_row16_col2\" class=\"data row16 col2\" >1.5118</td>\n",
              "      <td id=\"T_d6673_row16_col3\" class=\"data row16 col3\" >1.2289</td>\n",
              "      <td id=\"T_d6673_row16_col4\" class=\"data row16 col4\" >-0.0087</td>\n",
              "      <td id=\"T_d6673_row16_col5\" class=\"data row16 col5\" >0.1053</td>\n",
              "      <td id=\"T_d6673_row16_col6\" class=\"data row16 col6\" >0.0985</td>\n",
              "      <td id=\"T_d6673_row16_col7\" class=\"data row16 col7\" >0.0240</td>\n",
              "    </tr>\n",
              "    <tr>\n",
              "      <th id=\"T_d6673_level0_row17\" class=\"row_heading level0 row17\" >par</th>\n",
              "      <td id=\"T_d6673_row17_col0\" class=\"data row17 col0\" >Passive Aggressive Regressor</td>\n",
              "      <td id=\"T_d6673_row17_col1\" class=\"data row17 col1\" >1.1900</td>\n",
              "      <td id=\"T_d6673_row17_col2\" class=\"data row17 col2\" >3.0212</td>\n",
              "      <td id=\"T_d6673_row17_col3\" class=\"data row17 col3\" >1.4219</td>\n",
              "      <td id=\"T_d6673_row17_col4\" class=\"data row17 col4\" >-1.1318</td>\n",
              "      <td id=\"T_d6673_row17_col5\" class=\"data row17 col5\" >0.1430</td>\n",
              "      <td id=\"T_d6673_row17_col6\" class=\"data row17 col6\" >0.1142</td>\n",
              "      <td id=\"T_d6673_row17_col7\" class=\"data row17 col7\" >0.0350</td>\n",
              "    </tr>\n",
              "    <tr>\n",
              "      <th id=\"T_d6673_level0_row18\" class=\"row_heading level0 row18\" >lar</th>\n",
              "      <td id=\"T_d6673_row18_col0\" class=\"data row18 col0\" >Least Angle Regression</td>\n",
              "      <td id=\"T_d6673_row18_col1\" class=\"data row18 col1\" >8370.9639</td>\n",
              "      <td id=\"T_d6673_row18_col2\" class=\"data row18 col2\" >507590254.1634</td>\n",
              "      <td id=\"T_d6673_row18_col3\" class=\"data row18 col3\" >10729.7467</td>\n",
              "      <td id=\"T_d6673_row18_col4\" class=\"data row18 col4\" >-348383468.5993</td>\n",
              "      <td id=\"T_d6673_row18_col5\" class=\"data row18 col5\" >3.0638</td>\n",
              "      <td id=\"T_d6673_row18_col6\" class=\"data row18 col6\" >792.8038</td>\n",
              "      <td id=\"T_d6673_row18_col7\" class=\"data row18 col7\" >0.0320</td>\n",
              "    </tr>\n",
              "  </tbody>\n",
              "</table>\n"
            ]
          },
          "metadata": {}
        },
        {
          "output_type": "display_data",
          "data": {
            "text/plain": [
              "Processing:   0%|          | 0/81 [00:00<?, ?it/s]"
            ],
            "application/vnd.jupyter.widget-view+json": {
              "version_major": 2,
              "version_minor": 0,
              "model_id": "29c3047b160642bf95094772377aa0fb"
            }
          },
          "metadata": {
            "application/vnd.jupyter.widget-view+json": {
              "colab": {
                "custom_widget_manager": {
                  "url": "https://ssl.gstatic.com/colaboratory-static/widgets/colab-cdn-widget-manager/2b70e893a8ba7c0f/manager.min.js"
                }
              }
            }
          }
        },
        {
          "output_type": "display_data",
          "data": {
            "text/plain": [
              "<IPython.core.display.HTML object>"
            ],
            "text/html": []
          },
          "metadata": {}
        }
      ],
      "source": [
        "# Compare all models and choose the best one\n",
        "best_model = compare_models()"
      ]
    },
    {
      "cell_type": "markdown",
      "id": "4cd56729",
      "metadata": {
        "id": "4cd56729"
      },
      "source": [
        "## 6. Analyze the Best Model\n",
        "Generate residuals plot and feature importance analysis for the best model."
      ]
    },
    {
      "cell_type": "code",
      "execution_count": 6,
      "id": "2b900538",
      "metadata": {
        "colab": {
          "base_uri": "https://localhost:8080/",
          "height": 992
        },
        "id": "2b900538",
        "outputId": "38c5a511-38ea-443e-8ed8-8e8f212d9288"
      },
      "outputs": [
        {
          "output_type": "display_data",
          "data": {
            "text/plain": [
              "<IPython.core.display.HTML object>"
            ],
            "text/html": []
          },
          "metadata": {}
        },
        {
          "output_type": "display_data",
          "data": {
            "text/plain": [
              "<Figure size 800x550 with 2 Axes>"
            ],
            "image/png": "[encoded data removed]"
          },
          "metadata": {}
        },
        {
          "output_type": "display_data",
          "data": {
            "text/plain": [
              "<IPython.core.display.HTML object>"
            ],
            "text/html": []
          },
          "metadata": {}
        },
        {
          "output_type": "display_data",
          "data": {
            "text/plain": [
              "<Figure size 800x500 with 1 Axes>"
            ],
            "image/png": "[encoded data removed]"
          },
          "metadata": {}
        }
      ],
      "source": [
        "# Residuals plot\n",
        "plot_model(best_model, plot='residuals')\n",
        "\n",
        "# Feature importance plot\n",
        "plot_model(best_model, plot='feature')"
      ]
    },
    {
      "cell_type": "markdown",
      "id": "68e00a66",
      "metadata": {
        "id": "68e00a66"
      },
      "source": [
        "## 7. Predictions\n",
        "Use the trained model to make predictions on the dataset."
      ]
    },
    {
      "cell_type": "code",
      "execution_count": 7,
      "id": "3a12bce4",
      "metadata": {
        "colab": {
          "base_uri": "https://localhost:8080/",
          "height": 267
        },
        "id": "3a12bce4",
        "outputId": "f6fe2a01-0282-4613-8046-99367dfafc59"
      },
      "outputs": [
        {
          "output_type": "display_data",
          "data": {
            "text/plain": [
              "<pandas.io.formats.style.Styler at 0x78a315516050>"
            ],
            "text/html": [
              "<style type=\"text/css\">\n",
              "</style>\n",
              "<table id=\"T_93499\" class=\"dataframe\">\n",
              "  <thead>\n",
              "    <tr>\n",
              "      <th class=\"blank level0\" >&nbsp;</th>\n",
              "      <th id=\"T_93499_level0_col0\" class=\"col_heading level0 col0\" >Model</th>\n",
              "      <th id=\"T_93499_level0_col1\" class=\"col_heading level0 col1\" >MAE</th>\n",
              "      <th id=\"T_93499_level0_col2\" class=\"col_heading level0 col2\" >MSE</th>\n",
              "      <th id=\"T_93499_level0_col3\" class=\"col_heading level0 col3\" >RMSE</th>\n",
              "      <th id=\"T_93499_level0_col4\" class=\"col_heading level0 col4\" >R2</th>\n",
              "      <th id=\"T_93499_level0_col5\" class=\"col_heading level0 col5\" >RMSLE</th>\n",
              "      <th id=\"T_93499_level0_col6\" class=\"col_heading level0 col6\" >MAPE</th>\n",
              "    </tr>\n",
              "  </thead>\n",
              "  <tbody>\n",
              "    <tr>\n",
              "      <th id=\"T_93499_level0_row0\" class=\"row_heading level0 row0\" >0</th>\n",
              "      <td id=\"T_93499_row0_col0\" class=\"data row0 col0\" >Light Gradient Boosting Machine</td>\n",
              "      <td id=\"T_93499_row0_col1\" class=\"data row0 col1\" >0.2404</td>\n",
              "      <td id=\"T_93499_row0_col2\" class=\"data row0 col2\" >0.1029</td>\n",
              "      <td id=\"T_93499_row0_col3\" class=\"data row0 col3\" >0.3208</td>\n",
              "      <td id=\"T_93499_row0_col4\" class=\"data row0 col4\" >0.9324</td>\n",
              "      <td id=\"T_93499_row0_col5\" class=\"data row0 col5\" >0.0275</td>\n",
              "      <td id=\"T_93499_row0_col6\" class=\"data row0 col6\" >0.0227</td>\n",
              "    </tr>\n",
              "  </tbody>\n",
              "</table>\n"
            ]
          },
          "metadata": {}
        },
        {
          "output_type": "stream",
          "name": "stdout",
          "text": [
            "+-------------------+---------------------+---------------------+--------------------+---------------------+---------------------+----------------------+--------------------+--------------------+---------------------+---------+--------------------+--------------------+\n",
            "|   fixed acidity   |  volatile acidity   |     citric acid     |   residual sugar   |      chlorides      | free sulfur dioxide | total sulfur dioxide |      density       |         pH         |      sulphates      | quality |      alcohol       |  prediction_label  |\n",
            "+-------------------+---------------------+---------------------+--------------------+---------------------+---------------------+----------------------+--------------------+--------------------+---------------------+---------+--------------------+--------------------+\n",
            "| 7.400000095367432 | 0.20000000298023224 | 0.3700000047683716  | 16.950000762939453 | 0.04800000041723251 |        43.0         |        190.0         | 0.9994999766349792 | 3.0299999713897705 | 0.41999998688697815 |   6.0   | 9.199999809265137  | 9.048796981313718  |\n",
            "| 5.900000095367432 | 0.28999999165534973 | 0.2800000011920929  | 3.200000047683716  | 0.03500000014901161 |        16.0         |        117.0         | 0.9895899891853333 | 3.259999990463257  | 0.41999998688697815 |   6.0   | 12.600000381469727 | 12.713655026983355 |\n",
            "| 6.900000095367432 | 0.23999999463558197 | 0.33000001311302185 | 1.7000000476837158 | 0.03500000014901161 |        47.0         |        136.0         | 0.9900000095367432 | 3.259999990463257  | 0.4000000059604645  |   7.0   | 12.600000381469727 | 12.628287658996044 |\n",
            "|        6.5        | 0.2199999988079071  | 0.3199999928474426  | 2.200000047683716  | 0.02800000086426735 |        36.0         |         92.0         | 0.9907600283622742 | 3.2699999809265137 | 0.5899999737739563  |   7.0   | 11.899999618530273 | 11.720661731897598 |\n",
            "|        7.5        | 0.3799999952316284  | 0.28999999165534973 | 12.699999809265137 | 0.05000000074505806 |        25.0         |        209.0         | 0.9986000061035156 |        3.25        | 0.5899999737739563  |   6.0   | 9.300000190734863  | 9.400118097011813  |\n",
            "+-------------------+---------------------+---------------------+--------------------+---------------------+---------------------+----------------------+--------------------+--------------------+---------------------+---------+--------------------+--------------------+\n"
          ]
        }
      ],
      "source": [
        "# Make predictions on the dataset\n",
        "predictions = predict_model(best_model)\n",
        "\n",
        "# Display sample predictions in a formatted table\n",
        "from tabulate import tabulate\n",
        "\n",
        "# Print predictions in a table format\n",
        "print(tabulate(predictions.head(), headers='keys', tablefmt='pretty', showindex=False))"
      ]
    },
    {
      "cell_type": "markdown",
      "id": "9236b870",
      "metadata": {
        "id": "9236b870"
      },
      "source": [
        "## 8. Save the Model\n",
        "Save the trained model for future deployment."
      ]
    },
    {
      "cell_type": "code",
      "execution_count": 8,
      "id": "a8952a28",
      "metadata": {
        "colab": {
          "base_uri": "https://localhost:8080/"
        },
        "id": "a8952a28",
        "outputId": "53198fe7-c5ea-4dc7-aa55-e265b1a926b6"
      },
      "outputs": [
        {
          "output_type": "stream",
          "name": "stdout",
          "text": [
            "Transformation Pipeline and Model Successfully Saved\n"
          ]
        },
        {
          "output_type": "execute_result",
          "data": {
            "text/plain": [
              "(Pipeline(memory=Memory(location=None),\n",
              "          steps=[('numerical_imputer',\n",
              "                  TransformerWrapper(include=['fixed acidity',\n",
              "                                              'volatile acidity', 'citric acid',\n",
              "                                              'residual sugar', 'chlorides',\n",
              "                                              'free sulfur dioxide',\n",
              "                                              'total sulfur dioxide', 'density',\n",
              "                                              'pH', 'sulphates', 'quality'],\n",
              "                                     transformer=SimpleImputer())),\n",
              "                 ('categorical_imputer',\n",
              "                  TransformerWrapper(include=[],\n",
              "                                     transformer=SimpleImputer(strategy='most_frequent'))),\n",
              "                 ('clean_column_names',\n",
              "                  TransformerWrapper(transformer=CleanColumnNames())),\n",
              "                 ('trained_model', LGBMRegressor(n_jobs=-1, random_state=123))]),\n",
              " 'white_wine_alcohol_model.pkl')"
            ]
          },
          "metadata": {},
          "execution_count": 8
        }
      ],
      "source": [
        "# Save the trained model\n",
        "save_model(best_model, 'white_wine_alcohol_model')"
      ]
    }
  ],
  "metadata": {
    "colab": {
      "provenance": []
    },
    "language_info": {
      "name": "python"
    },
    "kernelspec": {
      "name": "python3",
      "display_name": "Python 3"
    },
    "widgets": {
      "application/vnd.jupyter.widget-state+json": {
        "29c3047b160642bf95094772377aa0fb": {
          "model_module": "@jupyter-widgets/controls",
          "model_name": "HBoxModel",
          "model_module_version": "1.5.0",
          "state": {
            "_dom_classes": [],
            "_model_module": "@jupyter-widgets/controls",
            "_model_module_version": "1.5.0",
            "_model_name": "HBoxModel",
            "_view_count": null,
            "_view_module": "@jupyter-widgets/controls",
            "_view_module_version": "1.5.0",
            "_view_name": "HBoxView",
            "box_style": "",
            "children": [
              "IPY_MODEL_fd7317cfc37248568f77395e100e86fe",
              "IPY_MODEL_e2d13ab652054f3b8c6bfea6c49bcea6",
              "IPY_MODEL_4044421a55d7424283ea530d302eb18c"
            ],
            "layout": "IPY_MODEL_850ecc6e20924c4f94ae56d57cf0d573"
          }
        },
        "fd7317cfc37248568f77395e100e86fe": {
          "model_module": "@jupyter-widgets/controls",
          "model_name": "HTMLModel",
          "model_module_version": "1.5.0",
          "state": {
            "_dom_classes": [],
            "_model_module": "@jupyter-widgets/controls",
            "_model_module_version": "1.5.0",
            "_model_name": "HTMLModel",
            "_view_count": null,
            "_view_module": "@jupyter-widgets/controls",
            "_view_module_version": "1.5.0",
            "_view_name": "HTMLView",
            "description": "",
            "description_tooltip": null,
            "layout": "IPY_MODEL_d0ceff48af2c42ada5aea2b93815475f",
            "placeholder": "​",
            "style": "IPY_MODEL_0c3143ff2cad4ff9a98b6814b78723ec",
            "value": "Processing: 100%"
          }
        },
        "e2d13ab652054f3b8c6bfea6c49bcea6": {
          "model_module": "@jupyter-widgets/controls",
          "model_name": "FloatProgressModel",
          "model_module_version": "1.5.0",
          "state": {
            "_dom_classes": [],
            "_model_module": "@jupyter-widgets/controls",
            "_model_module_version": "1.5.0",
            "_model_name": "FloatProgressModel",
            "_view_count": null,
            "_view_module": "@jupyter-widgets/controls",
            "_view_module_version": "1.5.0",
            "_view_name": "ProgressView",
            "bar_style": "",
            "description": "",
            "description_tooltip": null,
            "layout": "IPY_MODEL_3dbfdbc87eea4fd2971dfc2f2911c906",
            "max": 81,
            "min": 0,
            "orientation": "horizontal",
            "style": "IPY_MODEL_e7f75c82096842ec808b9c9dfbb2dff8",
            "value": 81
          }
        },
        "4044421a55d7424283ea530d302eb18c": {
          "model_module": "@jupyter-widgets/controls",
          "model_name": "HTMLModel",
          "model_module_version": "1.5.0",
          "state": {
            "_dom_classes": [],
            "_model_module": "@jupyter-widgets/controls",
            "_model_module_version": "1.5.0",
            "_model_name": "HTMLModel",
            "_view_count": null,
            "_view_module": "@jupyter-widgets/controls",
            "_view_module_version": "1.5.0",
            "_view_name": "HTMLView",
            "description": "",
            "description_tooltip": null,
            "layout": "IPY_MODEL_5986699448404f3891120d549a45ef74",
            "placeholder": "​",
            "style": "IPY_MODEL_d0609ca67bb14d70991b8635525acfa4",
            "value": " 81/81 [01:04&lt;00:00,  2.48it/s]"
          }
        },
        "850ecc6e20924c4f94ae56d57cf0d573": {
          "model_module": "@jupyter-widgets/base",
          "model_name": "LayoutModel",
          "model_module_version": "1.2.0",
          "state": {
            "_model_module": "@jupyter-widgets/base",
            "_model_module_version": "1.2.0",
            "_model_name": "LayoutModel",
            "_view_count": null,
            "_view_module": "@jupyter-widgets/base",
            "_view_module_version": "1.2.0",
            "_view_name": "LayoutView",
            "align_content": null,
            "align_items": null,
            "align_self": null,
            "border": null,
            "bottom": null,
            "display": null,
            "flex": null,
            "flex_flow": null,
            "grid_area": null,
            "grid_auto_columns": null,
            "grid_auto_flow": null,
            "grid_auto_rows": null,
            "grid_column": null,
            "grid_gap": null,
            "grid_row": null,
            "grid_template_areas": null,
            "grid_template_columns": null,
            "grid_template_rows": null,
            "height": null,
            "justify_content": null,
            "justify_items": null,
            "left": null,
            "margin": null,
            "max_height": null,
            "max_width": null,
            "min_height": null,
            "min_width": null,
            "object_fit": null,
            "object_position": null,
            "order": null,
            "overflow": null,
            "overflow_x": null,
            "overflow_y": null,
            "padding": null,
            "right": null,
            "top": null,
            "visibility": "hidden",
            "width": null
          }
        },
        "d0ceff48af2c42ada5aea2b93815475f": {
          "model_module": "@jupyter-widgets/base",
          "model_name": "LayoutModel",
          "model_module_version": "1.2.0",
          "state": {
            "_model_module": "@jupyter-widgets/base",
            "_model_module_version": "1.2.0",
            "_model_name": "LayoutModel",
            "_view_count": null,
            "_view_module": "@jupyter-widgets/base",
            "_view_module_version": "1.2.0",
            "_view_name": "LayoutView",
            "align_content": null,
            "align_items": null,
            "align_self": null,
            "border": null,
            "bottom": null,
            "display": null,
            "flex": null,
            "flex_flow": null,
            "grid_area": null,
            "grid_auto_columns": null,
            "grid_auto_flow": null,
            "grid_auto_rows": null,
            "grid_column": null,
            "grid_gap": null,
            "grid_row": null,
            "grid_template_areas": null,
            "grid_template_columns": null,
            "grid_template_rows": null,
            "height": null,
            "justify_content": null,
            "justify_items": null,
            "left": null,
            "margin": null,
            "max_height": null,
            "max_width": null,
            "min_height": null,
            "min_width": null,
            "object_fit": null,
            "object_position": null,
            "order": null,
            "overflow": null,
            "overflow_x": null,
            "overflow_y": null,
            "padding": null,
            "right": null,
            "top": null,
            "visibility": null,
            "width": null
          }
        },
        "0c3143ff2cad4ff9a98b6814b78723ec": {
          "model_module": "@jupyter-widgets/controls",
          "model_name": "DescriptionStyleModel",
          "model_module_version": "1.5.0",
          "state": {
            "_model_module": "@jupyter-widgets/controls",
            "_model_module_version": "1.5.0",
            "_model_name": "DescriptionStyleModel",
            "_view_count": null,
            "_view_module": "@jupyter-widgets/base",
            "_view_module_version": "1.2.0",
            "_view_name": "StyleView",
            "description_width": ""
          }
        },
        "3dbfdbc87eea4fd2971dfc2f2911c906": {
          "model_module": "@jupyter-widgets/base",
          "model_name": "LayoutModel",
          "model_module_version": "1.2.0",
          "state": {
            "_model_module": "@jupyter-widgets/base",
            "_model_module_version": "1.2.0",
            "_model_name": "LayoutModel",
            "_view_count": null,
            "_view_module": "@jupyter-widgets/base",
            "_view_module_version": "1.2.0",
            "_view_name": "LayoutView",
            "align_content": null,
            "align_items": null,
            "align_self": null,
            "border": null,
            "bottom": null,
            "display": null,
            "flex": null,
            "flex_flow": null,
            "grid_area": null,
            "grid_auto_columns": null,
            "grid_auto_flow": null,
            "grid_auto_rows": null,
            "grid_column": null,
            "grid_gap": null,
            "grid_row": null,
            "grid_template_areas": null,
            "grid_template_columns": null,
            "grid_template_rows": null,
            "height": null,
            "justify_content": null,
            "justify_items": null,
            "left": null,
            "margin": null,
            "max_height": null,
            "max_width": null,
            "min_height": null,
            "min_width": null,
            "object_fit": null,
            "object_position": null,
            "order": null,
            "overflow": null,
            "overflow_x": null,
            "overflow_y": null,
            "padding": null,
            "right": null,
            "top": null,
            "visibility": null,
            "width": null
          }
        },
        "e7f75c82096842ec808b9c9dfbb2dff8": {
          "model_module": "@jupyter-widgets/controls",
          "model_name": "ProgressStyleModel",
          "model_module_version": "1.5.0",
          "state": {
            "_model_module": "@jupyter-widgets/controls",
            "_model_module_version": "1.5.0",
            "_model_name": "ProgressStyleModel",
            "_view_count": null,
            "_view_module": "@jupyter-widgets/base",
            "_view_module_version": "1.2.0",
            "_view_name": "StyleView",
            "bar_color": null,
            "description_width": ""
          }
        },
        "5986699448404f3891120d549a45ef74": {
          "model_module": "@jupyter-widgets/base",
          "model_name": "LayoutModel",
          "model_module_version": "1.2.0",
          "state": {
            "_model_module": "@jupyter-widgets/base",
            "_model_module_version": "1.2.0",
            "_model_name": "LayoutModel",
            "_view_count": null,
            "_view_module": "@jupyter-widgets/base",
            "_view_module_version": "1.2.0",
            "_view_name": "LayoutView",
            "align_content": null,
            "align_items": null,
            "align_self": null,
            "border": null,
            "bottom": null,
            "display": null,
            "flex": null,
            "flex_flow": null,
            "grid_area": null,
            "grid_auto_columns": null,
            "grid_auto_flow": null,
            "grid_auto_rows": null,
            "grid_column": null,
            "grid_gap": null,
            "grid_row": null,
            "grid_template_areas": null,
            "grid_template_columns": null,
            "grid_template_rows": null,
            "height": null,
            "justify_content": null,
            "justify_items": null,
            "left": null,
            "margin": null,
            "max_height": null,
            "max_width": null,
            "min_height": null,
            "min_width": null,
            "object_fit": null,
            "object_position": null,
            "order": null,
            "overflow": null,
            "overflow_x": null,
            "overflow_y": null,
            "padding": null,
            "right": null,
            "top": null,
            "visibility": null,
            "width": null
          }
        },
        "d0609ca67bb14d70991b8635525acfa4": {
          "model_module": "@jupyter-widgets/controls",
          "model_name": "DescriptionStyleModel",
          "model_module_version": "1.5.0",
          "state": {
            "_model_module": "@jupyter-widgets/controls",
            "_model_module_version": "1.5.0",
            "_model_name": "DescriptionStyleModel",
            "_view_count": null,
            "_view_module": "@jupyter-widgets/base",
            "_view_module_version": "1.2.0",
            "_view_name": "StyleView",
            "description_width": ""
          }
        }
      }
    }
  },
  "nbformat": 4,
  "nbformat_minor": 5
}